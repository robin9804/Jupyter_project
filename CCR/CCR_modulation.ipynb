{
  "nbformat": 4,
  "nbformat_minor": 0,
  "metadata": {
    "colab": {
      "name": "CCR_modulation.ipynb",
      "provenance": []
    },
    "kernelspec": {
      "name": "python3",
      "display_name": "Python 3"
    }
  },
  "cells": [
    {
      "cell_type": "code",
      "metadata": {
        "id": "nfKuZhBWhFz-",
        "colab_type": "code",
        "colab": {}
      },
      "source": [
        "import numpy as np\n",
        "import matplotlib.pyplot as plt"
      ],
      "execution_count": 0,
      "outputs": []
    },
    {
      "cell_type": "code",
      "metadata": {
        "id": "9j8E3hObhOKS",
        "colab_type": "code",
        "outputId": "a7dc684e-3ef8-4a5c-9c0f-92d4fef23091",
        "colab": {
          "base_uri": "https://localhost:8080/",
          "height": 326
        }
      },
      "source": [
        "arr1 = np.ones((500,500))\n",
        "for i in range(500):\n",
        "  for j in range(500):\n",
        "    arr1[[i],[j]] = np.sin(i/500)\n",
        "\n",
        "arr1 = np.sin(arr1/500)\n",
        "arr2 = np.fft.fft(arr1)\n",
        "#arr2 = np.fft.fftshift(arr2)\n",
        "arr2 = np.array(arr2 * 128,dtype=float)\n",
        "\n",
        "plt.imshow(arr2)\n",
        "plt.colorbar()\n",
        "plt.show()"
      ],
      "execution_count": 0,
      "outputs": [
        {
          "output_type": "stream",
          "text": [
            "/usr/local/lib/python3.6/dist-packages/ipykernel_launcher.py:9: ComplexWarning: Casting complex values to real discards the imaginary part\n",
            "  if __name__ == '__main__':\n"
          ],
          "name": "stderr"
        },
        {
          "output_type": "display_data",
          "data": {
            "image/png": "[encoded data removed]",
            "text/plain": [
              "<Figure size 432x288 with 2 Axes>"
            ]
          },
          "metadata": {
            "tags": []
          }
        }
      ]
    },
    {
      "cell_type": "code",
      "metadata": {
        "id": "zafhkAPXhiah",
        "colab_type": "code",
        "outputId": "723bd984-02ff-4d1b-a7dd-a8b0c9f797e7",
        "colab": {
          "base_uri": "https://localhost:8080/",
          "height": 269
        }
      },
      "source": [
        "x1 = np.arange(-1,1,0.01)\n",
        "y1 = np.exp(-x1**2)\n",
        "\n",
        "arr3 = np.zeros((200,200))\n",
        "\n",
        "for i in range(200):\n",
        "  for j in range(200):\n",
        "    arr3[[i],[j]] = y1[i]\n",
        "\n",
        "plt.imshow(arr3)\n",
        "plt.colorbar()\n",
        "plt.show()"
      ],
      "execution_count": 0,
      "outputs": [
        {
          "output_type": "display_data",
          "data": {
            "image/png": "[encoded data removed]",
            "text/plain": [
              "<Figure size 432x288 with 2 Axes>"
            ]
          },
          "metadata": {
            "tags": []
          }
        }
      ]
    },
    {
      "cell_type": "code",
      "metadata": {
        "id": "M28Ri9lCnS3C",
        "colab_type": "code",
        "colab": {}
      },
      "source": [
        ""
      ],
      "execution_count": 0,
      "outputs": []
    }
  ]
}