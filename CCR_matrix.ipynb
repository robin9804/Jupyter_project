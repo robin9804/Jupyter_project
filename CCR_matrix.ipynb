{
  "nbformat": 4,
  "nbformat_minor": 0,
  "metadata": {
    "colab": {
      "name": "CCR matrix.ipynb",
      "provenance": [],
      "authorship_tag": "ABX9TyPS9Xe3x7q0PwwrDNJKJdvD",
      "include_colab_link": true
    },
    "kernelspec": {
      "name": "python3",
      "display_name": "Python 3"
    }
  },
  "cells": [
    {
      "cell_type": "markdown",
      "metadata": {
        "id": "view-in-github",
        "colab_type": "text"
      },
      "source": [
        "<a href=\"https://colab.research.google.com/github/robin9804/Jupyter_project/blob/master/CCR_matrix.ipynb\" target=\"_parent\"><img src=\"https://colab.research.google.com/assets/colab-badge.svg\" alt=\"Open In Colab\"/></a>"
      ]
    },
    {
      "cell_type": "code",
      "metadata": {
        "id": "RgWkhYml36YM",
        "colab_type": "code",
        "colab": {}
      },
      "source": [
        "import numpy as np\n",
        "import matplotlib.pyplot as plt\n",
        "import cmath\n",
        "from math import *\n"
      ],
      "execution_count": 0,
      "outputs": []
    },
    {
      "cell_type": "code",
      "metadata": {
        "id": "5EYsFsCW4C8f",
        "colab_type": "code",
        "colab": {}
      },
      "source": [
        "#parameter\n",
        "n = 1.46                    #굴절율\n",
        "\n",
        "F = np.array([[-1,0],[0,1]])\n",
        "\n",
        "ACB = [150, -60, 60, -90]\n",
        "ABC = [150, 60, -60, 30]\n",
        "BAC = [-90, -60, 60, 30]\n",
        "BCA = [-90, 60, -60, 150]\n",
        "CBA = [30, -60, 60, 150]\n",
        "CAB = [30, 60, -60, -90]"
      ],
      "execution_count": 0,
      "outputs": []
    },
    {
      "cell_type": "code",
      "metadata": {
        "id": "CrOWhf2gr7mW",
        "colab_type": "code",
        "colab": {}
      },
      "source": [
        "def input_pol(ang):\n",
        "    '''\n",
        "    define Ep and Es with input polarization angle\n",
        "    '''\n",
        "    Ex = cos(ang)\n",
        "    Ey = sin(ang)\n",
        "    E = np.array([[Ex],[Ey]])\n",
        "    return E\n",
        "\n",
        "#input ray의 phase는 동일하다고 가정\n",
        "def rotate(ang):\n",
        "    '''\n",
        "    radian to rotation\n",
        "    '''\n",
        "    return np.array([[cos(ang),sin(ang)],[-sin(ang),cos(ang)]])\n",
        "\n",
        "#phase shift의 angle은 투입각을 말함\n",
        "def PS_s(ang):\n",
        "    '''\n",
        "    phase shift for P pol\n",
        "    '''\n",
        "    A = (n*sin(ang))**2\n",
        "    y = sqrt(A-1)\n",
        "    x = n*cos(ang)\n",
        "    delta = atan2(y,x)\n",
        "    return 2*delta\n",
        "\n",
        "def PS_p(ang):\n",
        "    '''\n",
        "    phase shift for s pol\n",
        "    '''\n",
        "    y = n*sqrt((n*sin(ang))**2 -1)\n",
        "    x = cos(ang)\n",
        "    delta = atan2(y,x)\n",
        "    return 2*delta\n",
        "\n",
        "def MP(ang):\n",
        "    '''\n",
        "    matrix P determine by phase shift P, S\n",
        "    '''\n",
        "    m1 = exp(PS_s(ang)*1j)\n",
        "    m2 = exp(1j*PS_p(ang))\n",
        "    return np.array([[m1,0],[0,m2]])\n",
        "\n",
        "def Mat_TR(Path,ang):\n",
        "    r0 = np.dot(MP(ang),rotate(Path[0]))\n",
        "    r1 = np.dot(MP(ang),rotate(Path[1]))\n",
        "    r2 = np.dot(MP(ang),rotate(Path[2]))\n",
        "    r3 = np.dot(F,rotate(Path[3]))\n",
        "    return np.dot(np.dot(r3,r2),np.dot(r1,r0))\n"
      ],
      "execution_count": 0,
      "outputs": []
    },
    {
      "cell_type": "code",
      "metadata": {
        "id": "8_CgHWh8Ser_",
        "colab_type": "code",
        "outputId": "0d18c03f-bda7-4413-d291-436c8feaa880",
        "colab": {
          "base_uri": "https://localhost:8080/",
          "height": 35
        }
      },
      "source": [
        "arr = np.array([[1],[2]])\n",
        "print(arr[[0],[0]])"
      ],
      "execution_count": 0,
      "outputs": [
        {
          "output_type": "stream",
          "text": [
            "[1]\n"
          ],
          "name": "stdout"
        }
      ]
    },
    {
      "cell_type": "code",
      "metadata": {
        "id": "ajkHEUZzSlzX",
        "colab_type": "code",
        "colab": {}
      },
      "source": [
        "def read_signal(E, A_pol):\n",
        "    if A_pol == 0:\n",
        "        JM = np.array([[1,0],[0,0]])\n",
        "\n",
        "    elif A_pol == 45:\n",
        "        JM = np.array([[0.5,0.5],[0.5,0.5]])\n",
        "\n",
        "    elif A_pol == 90:\n",
        "        JM = np.array([[0,0],[0,1]])\n",
        "\n",
        "    elif A_pol == 135:\n",
        "        JM = np.array([[0.5,-0.5],[-0.5,0.5]])\n",
        "\n",
        "    result = np.dot(JM,E)\n",
        "    Ex = abs(result[[0],[0]])\n",
        "    Ey = abs(result[[1],[0]])\n",
        "    return sqrt(Ex**2 + Ey**2)"
      ],
      "execution_count": 0,
      "outputs": []
    },
    {
      "cell_type": "code",
      "metadata": {
        "id": "PL7DyE2oaMLZ",
        "colab_type": "code",
        "outputId": "da574c5d-0f91-4db4-f340-03f5562269a9",
        "colab": {
          "base_uri": "https://localhost:8080/",
          "height": 54
        }
      },
      "source": [
        "E = input_pol(int(input()))\n",
        "read_signal(E,135)"
      ],
      "execution_count": 0,
      "outputs": [
        {
          "output_type": "stream",
          "text": [
            "30\n"
          ],
          "name": "stdout"
        },
        {
          "output_type": "execute_result",
          "data": {
            "text/plain": [
              "0.8077161076461881"
            ]
          },
          "metadata": {
            "tags": []
          },
          "execution_count": 28
        }
      ]
    },
    {
      "cell_type": "code",
      "metadata": {
        "id": "OBUP8JYOajdk",
        "colab_type": "code",
        "outputId": "8acaba5e-6866-4841-f95a-21f1060420b2",
        "colab": {
          "base_uri": "https://localhost:8080/",
          "height": 287
        }
      },
      "source": [
        "def polcam(ang):\n",
        "  pc = np.zeros((2,2))\n",
        "  init = input_pol(ang)\n",
        "  pc[[0],[0]] = read_signal(init,90)\n",
        "  pc[[1],[0]] = read_signal(init,45)\n",
        "  pc[[0],[1]] = read_signal(init,135)\n",
        "  pc[[1],[1]] = read_signal(init,0)\n",
        "  return pc\n",
        "\n",
        "test = polcam(30)\n",
        "\n",
        "plt.imshow(test)\n",
        "plt.colorbar()\n"
      ],
      "execution_count": 0,
      "outputs": [
        {
          "output_type": "execute_result",
          "data": {
            "text/plain": [
              "<matplotlib.colorbar.Colorbar at 0x7f1b21abd908>"
            ]
          },
          "metadata": {
            "tags": []
          },
          "execution_count": 31
        },
        {
          "output_type": "display_data",
          "data": {
            "image/png": "[encoded data removed]",
            "text/plain": [
              "<Figure size 432x288 with 2 Axes>"
            ]
          },
          "metadata": {
            "tags": []
          }
        }
      ]
    },
    {
      "cell_type": "code",
      "metadata": {
        "id": "CQzW4HOZcl9L",
        "colab_type": "code",
        "outputId": "48843e2c-35d3-4094-f255-8f394aee60bc",
        "colab": {
          "base_uri": "https://localhost:8080/",
          "height": 287
        }
      },
      "source": [
        "test = polcam(45)\n",
        "\n",
        "plt.imshow(test,cmap='binary_r')\n",
        "plt.colorbar()"
      ],
      "execution_count": 0,
      "outputs": [
        {
          "output_type": "execute_result",
          "data": {
            "text/plain": [
              "<matplotlib.colorbar.Colorbar at 0x7f1b212b4828>"
            ]
          },
          "metadata": {
            "tags": []
          },
          "execution_count": 49
        },
        {
          "output_type": "display_data",
          "data": {
            "image/png": "[encoded data removed]",
            "text/plain": [
              "<Figure size 432x288 with 2 Axes>"
            ]
          },
          "metadata": {
            "tags": []
          }
        }
      ]
    },
    {
      "cell_type": "code",
      "metadata": {
        "id": "GExwNgxgiti4",
        "colab_type": "code",
        "colab": {}
      },
      "source": [
        ""
      ],
      "execution_count": 0,
      "outputs": []
    }
  ]
}