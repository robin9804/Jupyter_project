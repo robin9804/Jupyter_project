{
  "nbformat": 4,
  "nbformat_minor": 0,
  "metadata": {
    "colab": {
      "name": "Logistic regression.ipynb",
      "provenance": [],
      "collapsed_sections": []
    },
    "kernelspec": {
      "name": "python3",
      "display_name": "Python 3"
    }
  },
  "cells": [
    {
      "cell_type": "code",
      "metadata": {
        "id": "mPBZJtgpTh4B",
        "colab_type": "code",
        "colab": {}
      },
      "source": [
        "from sklearn.datasets import load_breast_cancer\n",
        "import numpy as np\n",
        "import matplotlib.pyplot as plt"
      ],
      "execution_count": 0,
      "outputs": []
    },
    {
      "cell_type": "code",
      "metadata": {
        "id": "tYJXSAW7T5Nu",
        "colab_type": "code",
        "outputId": "82e5f231-35f9-4d00-a4b2-036cac779451",
        "colab": {
          "base_uri": "https://localhost:8080/",
          "height": 35
        }
      },
      "source": [
        "# data set을 로드함\n",
        "can = load_breast_cancer() #load cancer data\n",
        "print(can.data.shape, can.target.shape)"
      ],
      "execution_count": 2,
      "outputs": [
        {
          "output_type": "stream",
          "text": [
            "(569, 30) (569,)\n"
          ],
          "name": "stdout"
        }
      ]
    },
    {
      "cell_type": "code",
      "metadata": {
        "id": "NJUlNp8lUH7f",
        "colab_type": "code",
        "outputId": "7394646f-69e0-48a2-8b9a-b8e38f610057",
        "colab": {
          "base_uri": "https://localhost:8080/",
          "height": 297
        }
      },
      "source": [
        "plt.boxplot(can.data)\n",
        "plt.xlabel(\"feature, x\")\n",
        "plt.ylabel(\"value\")"
      ],
      "execution_count": 3,
      "outputs": [
        {
          "output_type": "execute_result",
          "data": {
            "text/plain": [
              "Text(0, 0.5, 'value')"
            ]
          },
          "metadata": {
            "tags": []
          },
          "execution_count": 3
        },
        {
          "output_type": "display_data",
          "data": {
            "image/png": "[encoded data removed]",
            "text/plain": [
              "<Figure size 432x288 with 1 Axes>"
            ]
          },
          "metadata": {
            "tags": [],
            "needs_background": "light"
          }
        }
      ]
    },
    {
      "cell_type": "markdown",
      "metadata": {
        "id": "BuGRNEBnVF3a",
        "colab_type": "text"
      },
      "source": [
        "4, 24, 14 feature is about area"
      ]
    },
    {
      "cell_type": "code",
      "metadata": {
        "id": "VSoB3lD9Umer",
        "colab_type": "code",
        "outputId": "c2a0a0d2-a5f5-46c3-98e2-1d50cc77bac3",
        "colab": {
          "base_uri": "https://localhost:8080/",
          "height": 35
        }
      },
      "source": [
        "# find unique sample, for this example, 0 or 1 타겟의 특징과 분포를 unique함수를 통해서 알 수 있음\n",
        "np.unique(can.target, return_counts=True)"
      ],
      "execution_count": 4,
      "outputs": [
        {
          "output_type": "execute_result",
          "data": {
            "text/plain": [
              "(array([0, 1]), array([212, 357]))"
            ]
          },
          "metadata": {
            "tags": []
          },
          "execution_count": 4
        }
      ]
    },
    {
      "cell_type": "code",
      "metadata": {
        "id": "1JYzgjTzVnTu",
        "colab_type": "code",
        "colab": {}
      },
      "source": [
        "xdata = can.data\n",
        "ydata = can.target"
      ],
      "execution_count": 0,
      "outputs": []
    },
    {
      "cell_type": "code",
      "metadata": {
        "id": "GcJlir_IWBxB",
        "colab_type": "code",
        "colab": {}
      },
      "source": [
        "# seperating datasets to testsets and training set 훈련셋과 테스트셋을 나눔\n",
        "from sklearn.model_selection import train_test_split"
      ],
      "execution_count": 0,
      "outputs": []
    },
    {
      "cell_type": "code",
      "metadata": {
        "id": "WfGIVbx3WoNe",
        "colab_type": "code",
        "colab": {}
      },
      "source": [
        "xtrain, xtest, ytrain, ytest = train_test_split(xdata, ydata, stratify=ydata, test_size=0.2, random_state=42)"
      ],
      "execution_count": 0,
      "outputs": []
    },
    {
      "cell_type": "code",
      "metadata": {
        "id": "CVuDrPZkXCm1",
        "colab_type": "code",
        "outputId": "a315ff24-c558-4416-cc54-c6d6b2145737",
        "colab": {
          "base_uri": "https://localhost:8080/",
          "height": 53
        }
      },
      "source": [
        "print(xtrain.shape, xtest.shape)\n",
        "print(np.unique(ytrain, return_counts=True))"
      ],
      "execution_count": 8,
      "outputs": [
        {
          "output_type": "stream",
          "text": [
            "(455, 30) (114, 30)\n",
            "(array([0, 1]), array([170, 285]))\n"
          ],
          "name": "stdout"
        }
      ]
    },
    {
      "cell_type": "code",
      "metadata": {
        "id": "bVBESuR2XRrI",
        "colab_type": "code",
        "colab": {}
      },
      "source": [
        "# make logistic regression\n",
        "\n",
        "class Logistic:\n",
        "    def __init_ (self):\n",
        "        self.w = None\n",
        "        self.b = None\n",
        "        # 미리 초기화하지 않는다.\n",
        "\n",
        "    def forpass(self, x):\n",
        "        z = np.sum( x * self.w) + self.b # linear equation\n",
        "        return z\n",
        "    \n",
        "    def backprop(self, x, err): # 오차 역전파를 위한 gradiant 를 구하기\n",
        "        w_grad = x * err \n",
        "        b_grad = 1 * err\n",
        "        return w_grad, b_grad\n",
        "\n",
        "    def fit (self, x, y, epochs =100):\n",
        "        self.w = np.ones(x.shape[1]) # 가중치를 1로 초기화\n",
        "        self.b = 0\n",
        "        for i in range(epochs):\n",
        "            for xi, yi in zip(x, y):\n",
        "                z = self.forpass(xi)\n",
        "                yhat = self.activation(z) # after actuvation function\n",
        "                err = - (yi - yhat)\n",
        "                wgrad, bgrad = self.backprop(xi, err)\n",
        "                self.w -= wgrad\n",
        "                self.b -= bgrad\n",
        "\n",
        "    def activation(self, z):\n",
        "        #sigmoid function\n",
        "        a = 1 / (1+ np.exp(-z))\n",
        "        return a\n",
        "\n",
        "    def predict(self, x):\n",
        "        z = [self.forpass(xi) for xi in x] # every x data in\n",
        "        a = self.activation(np.array(z)) # or np.array(z)\n",
        "        return a > 0.5 # if a>0.5 True\n"
      ],
      "execution_count": 0,
      "outputs": []
    },
    {
      "cell_type": "code",
      "metadata": {
        "id": "yHx5pO-5b5YB",
        "colab_type": "code",
        "colab": {
          "base_uri": "https://localhost:8080/",
          "height": 35
        },
        "outputId": "8af71192-546b-4cb0-9f91-a3565d683f15"
      },
      "source": [
        "new = Logistic()\n",
        "new.fit(xtrain, ytrain)"
      ],
      "execution_count": 13,
      "outputs": [
        {
          "output_type": "stream",
          "text": [
            "/usr/local/lib/python3.6/dist-packages/ipykernel_launcher.py:32: RuntimeWarning: overflow encountered in exp\n"
          ],
          "name": "stderr"
        }
      ]
    },
    {
      "cell_type": "code",
      "metadata": {
        "id": "MMSckxfZcFJK",
        "colab_type": "code",
        "outputId": "b08bae2d-21fe-488a-b1aa-026d6703c0f5",
        "colab": {
          "base_uri": "https://localhost:8080/",
          "height": 53
        }
      },
      "source": [
        "np.mean(new.predict(xtest) == ytest) # evaluate model"
      ],
      "execution_count": 14,
      "outputs": [
        {
          "output_type": "stream",
          "text": [
            "/usr/local/lib/python3.6/dist-packages/ipykernel_launcher.py:32: RuntimeWarning: overflow encountered in exp\n"
          ],
          "name": "stderr"
        },
        {
          "output_type": "execute_result",
          "data": {
            "text/plain": [
              "0.8245614035087719"
            ]
          },
          "metadata": {
            "tags": []
          },
          "execution_count": 14
        }
      ]
    },
    {
      "cell_type": "code",
      "metadata": {
        "id": "58m1cvJycX6E",
        "colab_type": "code",
        "colab": {}
      },
      "source": [
        "# single layer class\n",
        "\n",
        "class Singlelayer:\n",
        "    def __init__(self):\n",
        "        self.w = None\n",
        "        self.b = None\n",
        "        self.losses = [] # save lose works\n",
        "\n",
        "    def forpass(self, x):        \n",
        "        z = np.sum(x* self.w) + self.b # linear equation       \n",
        "        return z        \n",
        "\n",
        "    def backprop(self, x, err): # 오차         \n",
        "        w_grad = x * err         \n",
        "        b_grad = err        \n",
        "        return w_grad, b_grad\n",
        "             \n",
        "    def fit (self, x, y, epochs =100):        \n",
        "        self.w = np.ones(x.shape[1]) # initialize weight        \n",
        "        self.b = 0        \n",
        "        for i in range(epochs):            \n",
        "            loss = 0\n",
        "            index = np.random.permutation(np.arange(len(x)))\n",
        "            for j in index:\n",
        "                z = self.forpass(x[i])                \n",
        "                yhat = self.activation(z) # after actuvation function                \n",
        "                err = - (y[i] - yhat)                \n",
        "                wgrad , bgrad = self.backprop(x[i], err)\n",
        "                self.w -= wgrad\n",
        "                self.b -= bgrad\n",
        "                # log clipping\n",
        "                yhat = np.clip(yhat, 1e-10, 1-1e-10)\n",
        "                loss += -(y[i]*np.log(yhat) + (1-y[i])*np.log(1-yhat)) # save average loss function\n",
        "            self.losses.append(loss/len(y))\n",
        "                  \n",
        "    \n",
        "    def activation(self, z):        #sigmoid function        \n",
        "        a = 1 / (1+ np.exp(-z))        \n",
        "        return a     \n",
        "    \n",
        "    def predict(self, x):        \n",
        "        z = [self.forpass(xi) for xi in x] # every x data in        \n",
        "        a = self.activation(z[0]) # or np.array(z)        \n",
        "        return a > 0.5 # if a>0.5 True\n",
        "\n",
        "    def score(self, x,y):\n",
        "        return np.mean(self.predict(x) == y)"
      ],
      "execution_count": 0,
      "outputs": []
    },
    {
      "cell_type": "code",
      "metadata": {
        "id": "Hla7nei2gKn9",
        "colab_type": "code",
        "outputId": "762fa614-c570-4df0-e3c0-e46fe2660bb3",
        "colab": {
          "base_uri": "https://localhost:8080/",
          "height": 53
        }
      },
      "source": [
        "layer = Singlelayer()\n",
        "layer.fit(xtrain, ytrain)\n",
        "layer.score(xtest, ytest)"
      ],
      "execution_count": 16,
      "outputs": [
        {
          "output_type": "stream",
          "text": [
            "/usr/local/lib/python3.6/dist-packages/ipykernel_launcher.py:36: RuntimeWarning: overflow encountered in exp\n"
          ],
          "name": "stderr"
        },
        {
          "output_type": "execute_result",
          "data": {
            "text/plain": [
              "0.3684210526315789"
            ]
          },
          "metadata": {
            "tags": []
          },
          "execution_count": 16
        }
      ]
    },
    {
      "cell_type": "code",
      "metadata": {
        "id": "cwfSFR2TilSI",
        "colab_type": "code",
        "outputId": "05846e19-b73b-4b99-9be6-0ab5b0ec30b4",
        "colab": {
          "base_uri": "https://localhost:8080/",
          "height": 283
        }
      },
      "source": [
        "plt.plot(layer.losses)"
      ],
      "execution_count": 17,
      "outputs": [
        {
          "output_type": "execute_result",
          "data": {
            "text/plain": [
              "[<matplotlib.lines.Line2D at 0x7f132ba448d0>]"
            ]
          },
          "metadata": {
            "tags": []
          },
          "execution_count": 17
        },
        {
          "output_type": "display_data",
          "data": {
            "image/png": "[encoded data removed]",
            "text/plain": [
              "<Figure size 432x288 with 1 Axes>"
            ]
          },
          "metadata": {
            "tags": [],
            "needs_background": "light"
          }
        }
      ]
    },
    {
      "cell_type": "code",
      "metadata": {
        "id": "pMbrqaoZio-Q",
        "colab_type": "code",
        "colab": {}
      },
      "source": [
        "# sklearn에서 로지스틱 회귀를 가져오기\n",
        "from sklearn.linear_model import SGDClassifier"
      ],
      "execution_count": 0,
      "outputs": []
    },
    {
      "cell_type": "code",
      "metadata": {
        "id": "7soeClhjj8n4",
        "colab_type": "code",
        "colab": {}
      },
      "source": [
        "sdg = SGDClassifier(loss='log',max_iter=100) # 사이킷런의 로지스틱 회귀모델"
      ],
      "execution_count": 0,
      "outputs": []
    },
    {
      "cell_type": "code",
      "metadata": {
        "id": "CzdcNONty-05",
        "colab_type": "code",
        "colab": {}
      },
      "source": [
        "sdg.fit(xtrain, ytrain)\n",
        "s = sdg.predict(xtest)"
      ],
      "execution_count": 0,
      "outputs": []
    },
    {
      "cell_type": "code",
      "metadata": {
        "id": "Sn_DbUNWzLa8",
        "colab_type": "code",
        "colab": {
          "base_uri": "https://localhost:8080/",
          "height": 35
        },
        "outputId": "38daa3bf-ea30-4714-8e36-c586c8213d19"
      },
      "source": [
        "np.mean(s == ytest)"
      ],
      "execution_count": 23,
      "outputs": [
        {
          "output_type": "execute_result",
          "data": {
            "text/plain": [
              "0.9298245614035088"
            ]
          },
          "metadata": {
            "tags": []
          },
          "execution_count": 23
        }
      ]
    },
    {
      "cell_type": "code",
      "metadata": {
        "id": "IcIKI5mhzSEw",
        "colab_type": "code",
        "colab": {}
      },
      "source": [
        ""
      ],
      "execution_count": 0,
      "outputs": []
    }
  ]
}