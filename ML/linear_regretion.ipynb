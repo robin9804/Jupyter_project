{
  "nbformat": 4,
  "nbformat_minor": 0,
  "metadata": {
    "colab": {
      "name": "linear regretion.ipynb",
      "provenance": []
    },
    "kernelspec": {
      "name": "python3",
      "display_name": "Python 3"
    }
  },
  "cells": [
    {
      "cell_type": "code",
      "metadata": {
        "id": "asIZLQrznRjG",
        "colab_type": "code",
        "colab": {}
      },
      "source": [
        "import tensorflow as tf\n",
        "import numpy as np\n",
        "import pandas as pd\n",
        "from sklearn.datasets import load_diabetes # 데이터셋 불러오기"
      ],
      "execution_count": 0,
      "outputs": []
    },
    {
      "cell_type": "code",
      "metadata": {
        "id": "43Zpm4nJnc47",
        "colab_type": "code",
        "outputId": "ae94ced1-62ef-490f-ec57-4e38e6cb9436",
        "colab": {
          "base_uri": "https://localhost:8080/",
          "height": 34
        }
      },
      "source": [
        "ds1 = load_diabetes()\n",
        "\n",
        "# dataset의 형태(shape) 확인하기\n",
        "print(ds1.data.shape, ds1.target.shape)"
      ],
      "execution_count": 0,
      "outputs": [
        {
          "output_type": "stream",
          "text": [
            "(442, 10) (442,)\n"
          ],
          "name": "stdout"
        }
      ]
    },
    {
      "cell_type": "code",
      "metadata": {
        "id": "rzkHZKePnwya",
        "colab_type": "code",
        "outputId": "571bdb63-5884-4b44-e659-0cbed05fdbde",
        "colab": {
          "base_uri": "https://localhost:8080/",
          "height": 122
        }
      },
      "source": [
        "# 데이터셋의 형태가 442 행 10열로 이루어져 있으며, 타겟의 형태가 442개 행으로만 나와있다.\n",
        "ds1.data[0:3]"
      ],
      "execution_count": 0,
      "outputs": [
        {
          "output_type": "execute_result",
          "data": {
            "text/plain": [
              "array([[ 0.03807591,  0.05068012,  0.06169621,  0.02187235, -0.0442235 ,\n",
              "        -0.03482076, -0.04340085, -0.00259226,  0.01990842, -0.01764613],\n",
              "       [-0.00188202, -0.04464164, -0.05147406, -0.02632783, -0.00844872,\n",
              "        -0.01916334,  0.07441156, -0.03949338, -0.06832974, -0.09220405],\n",
              "       [ 0.08529891,  0.05068012,  0.04445121, -0.00567061, -0.04559945,\n",
              "        -0.03419447, -0.03235593, -0.00259226,  0.00286377, -0.02593034]])"
            ]
          },
          "metadata": {
            "tags": []
          },
          "execution_count": 34
        }
      ]
    },
    {
      "cell_type": "code",
      "metadata": {
        "id": "g-swSUZ3oZug",
        "colab_type": "code",
        "outputId": "d26a5940-ca22-474a-ce01-37e922f32d91",
        "colab": {
          "base_uri": "https://localhost:8080/",
          "height": 195
        }
      },
      "source": [
        "ds2 = pd.DataFrame(ds1.data) # sklearn의 데이터셋을 pandas로도 해석이 가능합니다. ㅎㅎ\n",
        "\n",
        "ds2.head()"
      ],
      "execution_count": 0,
      "outputs": [
        {
          "output_type": "execute_result",
          "data": {
            "text/html": [
              "<div>\n",
              "<style scoped>\n",
              "    .dataframe tbody tr th:only-of-type {\n",
              "        vertical-align: middle;\n",
              "    }\n",
              "\n",
              "    .dataframe tbody tr th {\n",
              "        vertical-align: top;\n",
              "    }\n",
              "\n",
              "    .dataframe thead th {\n",
              "        text-align: right;\n",
              "    }\n",
              "</style>\n",
              "<table border=\"1\" class=\"dataframe\">\n",
              "  <thead>\n",
              "    <tr style=\"text-align: right;\">\n",
              "      <th></th>\n",
              "      <th>0</th>\n",
              "      <th>1</th>\n",
              "      <th>2</th>\n",
              "      <th>3</th>\n",
              "      <th>4</th>\n",
              "      <th>5</th>\n",
              "      <th>6</th>\n",
              "      <th>7</th>\n",
              "      <th>8</th>\n",
              "      <th>9</th>\n",
              "    </tr>\n",
              "  </thead>\n",
              "  <tbody>\n",
              "    <tr>\n",
              "      <th>0</th>\n",
              "      <td>0.038076</td>\n",
              "      <td>0.050680</td>\n",
              "      <td>0.061696</td>\n",
              "      <td>0.021872</td>\n",
              "      <td>-0.044223</td>\n",
              "      <td>-0.034821</td>\n",
              "      <td>-0.043401</td>\n",
              "      <td>-0.002592</td>\n",
              "      <td>0.019908</td>\n",
              "      <td>-0.017646</td>\n",
              "    </tr>\n",
              "    <tr>\n",
              "      <th>1</th>\n",
              "      <td>-0.001882</td>\n",
              "      <td>-0.044642</td>\n",
              "      <td>-0.051474</td>\n",
              "      <td>-0.026328</td>\n",
              "      <td>-0.008449</td>\n",
              "      <td>-0.019163</td>\n",
              "      <td>0.074412</td>\n",
              "      <td>-0.039493</td>\n",
              "      <td>-0.068330</td>\n",
              "      <td>-0.092204</td>\n",
              "    </tr>\n",
              "    <tr>\n",
              "      <th>2</th>\n",
              "      <td>0.085299</td>\n",
              "      <td>0.050680</td>\n",
              "      <td>0.044451</td>\n",
              "      <td>-0.005671</td>\n",
              "      <td>-0.045599</td>\n",
              "      <td>-0.034194</td>\n",
              "      <td>-0.032356</td>\n",
              "      <td>-0.002592</td>\n",
              "      <td>0.002864</td>\n",
              "      <td>-0.025930</td>\n",
              "    </tr>\n",
              "    <tr>\n",
              "      <th>3</th>\n",
              "      <td>-0.089063</td>\n",
              "      <td>-0.044642</td>\n",
              "      <td>-0.011595</td>\n",
              "      <td>-0.036656</td>\n",
              "      <td>0.012191</td>\n",
              "      <td>0.024991</td>\n",
              "      <td>-0.036038</td>\n",
              "      <td>0.034309</td>\n",
              "      <td>0.022692</td>\n",
              "      <td>-0.009362</td>\n",
              "    </tr>\n",
              "    <tr>\n",
              "      <th>4</th>\n",
              "      <td>0.005383</td>\n",
              "      <td>-0.044642</td>\n",
              "      <td>-0.036385</td>\n",
              "      <td>0.021872</td>\n",
              "      <td>0.003935</td>\n",
              "      <td>0.015596</td>\n",
              "      <td>0.008142</td>\n",
              "      <td>-0.002592</td>\n",
              "      <td>-0.031991</td>\n",
              "      <td>-0.046641</td>\n",
              "    </tr>\n",
              "  </tbody>\n",
              "</table>\n",
              "</div>"
            ],
            "text/plain": [
              "          0         1         2  ...         7         8         9\n",
              "0  0.038076  0.050680  0.061696  ... -0.002592  0.019908 -0.017646\n",
              "1 -0.001882 -0.044642 -0.051474  ... -0.039493 -0.068330 -0.092204\n",
              "2  0.085299  0.050680  0.044451  ... -0.002592  0.002864 -0.025930\n",
              "3 -0.089063 -0.044642 -0.011595  ...  0.034309  0.022692 -0.009362\n",
              "4  0.005383 -0.044642 -0.036385  ... -0.002592 -0.031991 -0.046641\n",
              "\n",
              "[5 rows x 10 columns]"
            ]
          },
          "metadata": {
            "tags": []
          },
          "execution_count": 35
        }
      ]
    },
    {
      "cell_type": "code",
      "metadata": {
        "id": "zeQXACxKokut",
        "colab_type": "code",
        "outputId": "04d6c316-d7ec-492f-f21b-b5481380e0b9",
        "colab": {
          "base_uri": "https://localhost:8080/",
          "height": 34
        }
      },
      "source": [
        "ds1.target[:3] # target 데이터는 각 샘플 데이터와 대응된다."
      ],
      "execution_count": 0,
      "outputs": [
        {
          "output_type": "execute_result",
          "data": {
            "text/plain": [
              "array([151.,  75., 141.])"
            ]
          },
          "metadata": {
            "tags": []
          },
          "execution_count": 36
        }
      ]
    },
    {
      "cell_type": "code",
      "metadata": {
        "id": "IpH-AljdovxG",
        "colab_type": "code",
        "colab": {}
      },
      "source": [
        "import matplotlib.pyplot as plt"
      ],
      "execution_count": 0,
      "outputs": []
    },
    {
      "cell_type": "code",
      "metadata": {
        "id": "tSlK0CfDp578",
        "colab_type": "code",
        "outputId": "54181990-b169-41a7-a0a4-947edcaf3ebd",
        "colab": {
          "base_uri": "https://localhost:8080/",
          "height": 297
        }
      },
      "source": [
        "plt.scatter(ds1.data[:,2], ds1.target) # 세 번째 레이블과 타겟\n",
        "plt.xlabel('x = therd label')\n",
        "plt.ylabel('y = target')"
      ],
      "execution_count": 0,
      "outputs": [
        {
          "output_type": "execute_result",
          "data": {
            "text/plain": [
              "Text(0, 0.5, 'y = target')"
            ]
          },
          "metadata": {
            "tags": []
          },
          "execution_count": 38
        },
        {
          "output_type": "display_data",
          "data": {
            "image/png": "[encoded data removed]",
            "text/plain": [
              "<Figure size 432x288 with 1 Axes>"
            ]
          },
          "metadata": {
            "tags": [],
            "needs_background": "light"
          }
        }
      ]
    },
    {
      "cell_type": "code",
      "metadata": {
        "id": "o9tDTMLFqF3i",
        "colab_type": "code",
        "colab": {}
      },
      "source": [
        "# 훈련 데이터 준비하기\n",
        "x_data = ds1.data[:,2]\n",
        "y_data = ds1.target"
      ],
      "execution_count": 0,
      "outputs": []
    },
    {
      "cell_type": "code",
      "metadata": {
        "id": "oqBJizF_rWMA",
        "colab_type": "code",
        "colab": {}
      },
      "source": [
        "# 선형회귀 시작하기전 준비\n",
        "# 가중치와 바이어스를 초기화 (임의로 1.0으로 초기화한 것)\n",
        "w = 1.0\n",
        "b = 1.0 "
      ],
      "execution_count": 0,
      "outputs": []
    },
    {
      "cell_type": "code",
      "metadata": {
        "id": "TeFtU20FsjeG",
        "colab_type": "code",
        "outputId": "dfa8dc60-0e3b-4440-d714-e07ef77bb7c5",
        "colab": {
          "base_uri": "https://localhost:8080/",
          "height": 34
        }
      },
      "source": [
        "# 훈련 데이터와 첫 셈플 데이터 y 를 얻기\n",
        "y_hat = x_data[0] * w +b\n",
        "print(y_hat)"
      ],
      "execution_count": 0,
      "outputs": [
        {
          "output_type": "stream",
          "text": [
            "1.0616962065186886\n"
          ],
          "name": "stdout"
        }
      ]
    },
    {
      "cell_type": "code",
      "metadata": {
        "id": "EuXvmjuQsoHl",
        "colab_type": "code",
        "outputId": "d6cd6552-0db2-421a-ae37-a33c7ba6cb16",
        "colab": {
          "base_uri": "https://localhost:8080/",
          "height": 34
        }
      },
      "source": [
        "# target과 예측데이터 비교\n",
        "print(y_data[0])"
      ],
      "execution_count": 0,
      "outputs": [
        {
          "output_type": "stream",
          "text": [
            "151.0\n"
          ],
          "name": "stdout"
        }
      ]
    },
    {
      "cell_type": "markdown",
      "metadata": {
        "id": "H6rDfV6UtArb",
        "colab_type": "text"
      },
      "source": [
        "##1.06과 151 사이 타겟값의 오차를 보정하기 위해서 w와 b를 각각 바꿔가며 결과를 봅시다."
      ]
    },
    {
      "cell_type": "code",
      "metadata": {
        "id": "h_aVm3tls1nP",
        "colab_type": "code",
        "outputId": "d0b7a434-1475-4ecf-e22a-5608f523d3c3",
        "colab": {
          "base_uri": "https://localhost:8080/",
          "height": 34
        }
      },
      "source": [
        "# 오차 보정하기\n",
        "w_inc = w + 0.1\n",
        "y_hat_inc = x_data[0]*w_inc +b\n",
        "print(y_hat_inc)"
      ],
      "execution_count": 0,
      "outputs": [
        {
          "output_type": "stream",
          "text": [
            "1.0678658271705574\n"
          ],
          "name": "stdout"
        }
      ]
    },
    {
      "cell_type": "code",
      "metadata": {
        "id": "n76JKqvetM5x",
        "colab_type": "code",
        "outputId": "68368374-fad8-4adb-aa21-b5b4171dc15a",
        "colab": {
          "base_uri": "https://localhost:8080/",
          "height": 34
        }
      },
      "source": [
        "# w에 대해 조정치에 대한 예상치의 변화에 대해서 계산\n",
        "w_rate = (y_hat_inc - y_hat) / (w_inc - w) # y가 변한만큼 w의 변화량으로 나눠준것\n",
        "print(w_rate)"
      ],
      "execution_count": 0,
      "outputs": [
        {
          "output_type": "stream",
          "text": [
            "0.061696206518688734\n"
          ],
          "name": "stdout"
        }
      ]
    },
    {
      "cell_type": "markdown",
      "metadata": {
        "id": "LANZxQB6tne0",
        "colab_type": "text"
      },
      "source": [
        "x[0]에 대한 w의 변화율이라고 할 수 있는데, 이는 결국 x[0]에 대응되는 값이라고 볼 수 있다. (w의 변화율과는 상관없는 수식이네요)\n",
        "\n",
        "\n",
        "\n",
        "---\n",
        "###그렇다면 변화율로 가중치를 업데이트하는 방법?\n",
        "\n",
        "변화율이 양수이면 가중치의 변화율을 가중치에 더하면 y 예상값도 증가하기 때문에 그냥 더해주면 된다.\n",
        "변화율이 음수이면 가중치의 변화율을 그냥 더해줘도(음수) y 예상값이 증가하기 때문에 (음의 기울기) 역시 그냥 더해주면 된다.!\n",
        "\n",
        "w_new = w + w_rate\n"
      ]
    },
    {
      "cell_type": "code",
      "metadata": {
        "id": "haNwVvDstfVc",
        "colab_type": "code",
        "outputId": "caa41b82-6d29-4fbf-c1a6-2c7cb6bc51d2",
        "colab": {
          "base_uri": "https://localhost:8080/",
          "height": 34
        }
      },
      "source": [
        "w_new = w + w_rate\n",
        "print(w_new)"
      ],
      "execution_count": 0,
      "outputs": [
        {
          "output_type": "stream",
          "text": [
            "1.0616962065186888\n"
          ],
          "name": "stdout"
        }
      ]
    },
    {
      "cell_type": "markdown",
      "metadata": {
        "id": "jiOS-lqNvX-n",
        "colab_type": "text"
      },
      "source": [
        "### 변화율로 절편 업데이트 하기"
      ]
    },
    {
      "cell_type": "code",
      "metadata": {
        "id": "BzZ0XDVzvOla",
        "colab_type": "code",
        "outputId": "c79ddcf5-99da-4b97-dc26-11d636b60c4d",
        "colab": {
          "base_uri": "https://localhost:8080/",
          "height": 52
        }
      },
      "source": [
        "# bias 에 0.1의 변화를 주는 경우\n",
        "b_inc = b + 0.1\n",
        "y_hat_inc = x_data[0] * w + b_inc\n",
        "print(y_hat_inc)\n",
        "\n",
        "# Bias 에 따른 변화율 구하기\n",
        "b_rate = (y_hat_inc - y_hat)/(b_inc - b)\n",
        "print(b_rate)"
      ],
      "execution_count": 0,
      "outputs": [
        {
          "output_type": "stream",
          "text": [
            "1.1616962065186887\n",
            "1.0\n"
          ],
          "name": "stdout"
        }
      ]
    },
    {
      "cell_type": "markdown",
      "metadata": {
        "id": "tMVe6eCwwKsg",
        "colab_type": "text"
      },
      "source": [
        "바이어스를 업데이트 하기 위해서는 변화율이 1이므로 단순히 1만 더해주면 된다..?\n",
        "1차 함수이기 때문에 절편이 1이 늘어나면 y도 1만큼 늘어나는것은 당연!"
      ]
    },
    {
      "cell_type": "code",
      "metadata": {
        "id": "Di4e97PSv44w",
        "colab_type": "code",
        "outputId": "6d754cf8-008c-4fe0-f3c9-0a77ebe4f1a3",
        "colab": {
          "base_uri": "https://localhost:8080/",
          "height": 34
        }
      },
      "source": [
        "b_new = b +1\n",
        "print(b_new)"
      ],
      "execution_count": 0,
      "outputs": [
        {
          "output_type": "stream",
          "text": [
            "2.0\n"
          ],
          "name": "stdout"
        }
      ]
    },
    {
      "cell_type": "markdown",
      "metadata": {
        "id": "2bsZ8yhNwkPw",
        "colab_type": "text"
      },
      "source": [
        "예상치가 y값에 미치지 못하는 경우 더 큰폭으로 수정할 수 없다는 함정, 예상치가 target값보다 커지면 감소시키지 못하는 문제가 생긴다."
      ]
    },
    {
      "cell_type": "markdown",
      "metadata": {
        "id": "LBzglSxEwwsr",
        "colab_type": "text"
      },
      "source": [
        "# 오차 역전파\n",
        "예상값과 실제 target 값의 오차가 연이어 전파되며 수행되는 것"
      ]
    },
    {
      "cell_type": "code",
      "metadata": {
        "id": "RhduDWntwfk7",
        "colab_type": "code",
        "outputId": "b757fb29-b0d9-4b71-c1e9-4f0dfa0c5bab",
        "colab": {
          "base_uri": "https://localhost:8080/",
          "height": 34
        }
      },
      "source": [
        "# 오차의 양을 변화율에 곱하는 방법으로 가중치 업데이트 해보기\n",
        "err = y_data[0] - y_hat # 오차의 양\n",
        "w_new = w + w_rate*err # 변화율에 오차의 양 곱하기 (x[0] * 오차)\n",
        "b_new = b + 1*err # 오차의 양과 변화율의 곱이 반영된 경우\n",
        "print(w_new, b_new)"
      ],
      "execution_count": 0,
      "outputs": [
        {
          "output_type": "stream",
          "text": [
            "10.250624555904514 150.9383037934813\n"
          ],
          "name": "stdout"
        }
      ]
    },
    {
      "cell_type": "code",
      "metadata": {
        "id": "YXPAAvPXxN4a",
        "colab_type": "code",
        "outputId": "87d1d986-1e49-4f2f-c984-7bca4f98cdbe",
        "colab": {
          "base_uri": "https://localhost:8080/",
          "height": 34
        }
      },
      "source": [
        "# x[1]을 사용해서 오차 구하기\n",
        "y_hat = x_data[1]*w_new + b_new\n",
        "err = y_data[1] - y_hat\n",
        "w_rate = x_data[1] # x[1]을 사용하기 위함\n",
        "\n",
        "w_new = w_new + w_rate*err\n",
        "b_new = b_new + 1*err\n",
        "print(w_new, b_new)"
      ],
      "execution_count": 0,
      "outputs": [
        {
          "output_type": "stream",
          "text": [
            "14.132317616381767 75.52764127612664\n"
          ],
          "name": "stdout"
        }
      ]
    },
    {
      "cell_type": "code",
      "metadata": {
        "id": "t5U81ttWyMhk",
        "colab_type": "code",
        "outputId": "44ed69af-5d48-4e9c-d8b6-627047e8fe53",
        "colab": {
          "base_uri": "https://localhost:8080/",
          "height": 34
        }
      },
      "source": [
        "# 모든 샘플에 대해서 반복하기\n",
        "for x, y in zip(x_data, y_data): # zip 함수는 한 요소를 하나씩 꺼내준다.\n",
        "    y_hat = x* w + b\n",
        "    err = y- y_hat\n",
        "    w_rate = x\n",
        "    w = w + w_rate*err\n",
        "    b = b + 1*err\n",
        "\n",
        "print(w, b)"
      ],
      "execution_count": 0,
      "outputs": [
        {
          "output_type": "stream",
          "text": [
            "587.8654539985689 99.40935564531424\n"
          ],
          "name": "stdout"
        }
      ]
    },
    {
      "cell_type": "markdown",
      "metadata": {
        "id": "8xpuq4-XzGUY",
        "colab_type": "text"
      },
      "source": [
        "데이터셋을 잘 표현했는지 확인해보기?"
      ]
    },
    {
      "cell_type": "code",
      "metadata": {
        "id": "Jp9i9ZHIy4QN",
        "colab_type": "code",
        "outputId": "81a5ba1e-b336-407f-b527-32312b865aaa",
        "colab": {
          "base_uri": "https://localhost:8080/",
          "height": 282
        }
      },
      "source": [
        "plt.scatter(x_data, y_data)\n",
        "pt1 = (-0.1, -0.1*w + b) # 두 개의 점을 일단 만들어주기\n",
        "pt2 = (0.15, 0.15*w+b)\n",
        "plt.plot([pt1[0],pt2[0]],[pt1[1],pt2[1]])\n"
      ],
      "execution_count": 0,
      "outputs": [
        {
          "output_type": "execute_result",
          "data": {
            "text/plain": [
              "[<matplotlib.lines.Line2D at 0x7fd4b51c9a58>]"
            ]
          },
          "metadata": {
            "tags": []
          },
          "execution_count": 55
        },
        {
          "output_type": "display_data",
          "data": {
            "image/png": "[encoded data removed]",
            "text/plain": [
              "<Figure size 432x288 with 1 Axes>"
            ]
          },
          "metadata": {
            "tags": [],
            "needs_background": "light"
          }
        }
      ]
    },
    {
      "cell_type": "markdown",
      "metadata": {
        "id": "nkPRZffVz4WX",
        "colab_type": "text"
      },
      "source": [
        "# Epoch 반복하기\n",
        "\n",
        "여러 번 학습을 반복하기"
      ]
    },
    {
      "cell_type": "code",
      "metadata": {
        "id": "Ht6jBtjuzqIB",
        "colab_type": "code",
        "outputId": "a8dce663-e594-4418-bc25-ba19672f8e67",
        "colab": {
          "base_uri": "https://localhost:8080/",
          "height": 34
        }
      },
      "source": [
        "for i in range(1, 100):\n",
        "    for x, y in zip(x_data, y_data):\n",
        "        y_hat = x* w + b\n",
        "        err = y- y_hat\n",
        "        w_rate = x\n",
        "        w = w + w_rate*err\n",
        "        b = b + 1*err\n",
        "\n",
        "print(w, b)"
      ],
      "execution_count": 0,
      "outputs": [
        {
          "output_type": "stream",
          "text": [
            "913.5973364345905 123.39414383177204\n"
          ],
          "name": "stdout"
        }
      ]
    },
    {
      "cell_type": "code",
      "metadata": {
        "id": "4ETbqGJX0LIo",
        "colab_type": "code",
        "outputId": "c19b392c-d258-435a-91c8-8719d39a4bee",
        "colab": {
          "base_uri": "https://localhost:8080/",
          "height": 282
        }
      },
      "source": [
        "plt.scatter(x_data, y_data)\n",
        "pt1 = (-0.1, -0.1*w + b) # 두 개의 점을 일단 만들어주기\n",
        "pt2 = (0.15, 0.15*w+b)\n",
        "plt.plot([pt1[0],pt2[0]],[pt1[1],pt2[1]])"
      ],
      "execution_count": 0,
      "outputs": [
        {
          "output_type": "execute_result",
          "data": {
            "text/plain": [
              "[<matplotlib.lines.Line2D at 0x7fd4b512afd0>]"
            ]
          },
          "metadata": {
            "tags": []
          },
          "execution_count": 57
        },
        {
          "output_type": "display_data",
          "data": {
            "image/png": "[encoded data removed]",
            "text/plain": [
              "<Figure size 432x288 with 1 Axes>"
            ]
          },
          "metadata": {
            "tags": [],
            "needs_background": "light"
          }
        }
      ]
    },
    {
      "cell_type": "markdown",
      "metadata": {
        "id": "Ym7FJ4lR0WC_",
        "colab_type": "text"
      },
      "source": [
        "이를 통해 전체적인 데이터를 알 수 있었다!\n",
        "y = 913.6*x + 123.4"
      ]
    },
    {
      "cell_type": "code",
      "metadata": {
        "id": "scEKUTB80SJx",
        "colab_type": "code",
        "outputId": "bf6db100-7c78-4239-b220-51e01a1ec042",
        "colab": {
          "base_uri": "https://localhost:8080/",
          "height": 34
        }
      },
      "source": [
        "# 새로운 데이터 예측하기?\n",
        "x_new = 0.18\n",
        "y_pred = x_new * w + b\n",
        "print(y_pred)"
      ],
      "execution_count": 0,
      "outputs": [
        {
          "output_type": "stream",
          "text": [
            "287.8416643899983\n"
          ],
          "name": "stdout"
        }
      ]
    },
    {
      "cell_type": "code",
      "metadata": {
        "id": "Db91KzGl0owy",
        "colab_type": "code",
        "colab": {}
      },
      "source": [
        ""
      ],
      "execution_count": 0,
      "outputs": []
    }
  ]
}