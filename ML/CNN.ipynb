{
  "nbformat": 4,
  "nbformat_minor": 0,
  "metadata": {
    "colab": {
      "name": "CNN.ipynb",
      "provenance": []
    },
    "kernelspec": {
      "name": "python3",
      "display_name": "Python 3"
    }
  },
  "cells": [
    {
      "cell_type": "code",
      "metadata": {
        "id": "oXA4p07_6YbN",
        "colab_type": "code",
        "colab": {}
      },
      "source": [
        "from scipy.signal import convolve\n",
        "import numpy as np"
      ],
      "execution_count": 0,
      "outputs": []
    },
    {
      "cell_type": "code",
      "metadata": {
        "id": "EKomoUH-7CTZ",
        "colab_type": "code",
        "colab": {
          "base_uri": "https://localhost:8080/",
          "height": 34
        },
        "outputId": "314f7d78-67bf-4125-a70c-4e62f77e1a34"
      },
      "source": [
        "# 합성곱 하기\n",
        "x = [1,2,3,4,5,6,7,8,9]\n",
        "w = [1,2,1,2]  # w가 [2,1,2,1]로 바뀌어서 원소간의 곱이 이루어진다.\n",
        "print(convolve(x, w, mode='valid'))"
      ],
      "execution_count": 5,
      "outputs": [
        {
          "output_type": "stream",
          "text": [
            "[14 20 26 32 38 44]\n"
          ],
          "name": "stdout"
        }
      ]
    },
    {
      "cell_type": "code",
      "metadata": {
        "id": "o1JzUtMV7HCF",
        "colab_type": "code",
        "colab": {
          "base_uri": "https://localhost:8080/",
          "height": 34
        },
        "outputId": "b7e31646-0ecd-4c80-a670-44f712ba3093"
      },
      "source": [
        "# CNN에 사용되는 것은 교차상관\n",
        "from scipy.signal import correlate\n",
        "correlate(x, w, mode='valid')  # 제로 패딩이 없는 valid 패딩"
      ],
      "execution_count": 8,
      "outputs": [
        {
          "output_type": "execute_result",
          "data": {
            "text/plain": [
              "array([16, 22, 28, 34, 40, 46])"
            ]
          },
          "metadata": {
            "tags": []
          },
          "execution_count": 8
        }
      ]
    },
    {
      "cell_type": "code",
      "metadata": {
        "id": "X0BhV0AR74hn",
        "colab_type": "code",
        "colab": {
          "base_uri": "https://localhost:8080/",
          "height": 52
        },
        "outputId": "74fec346-852c-4872-9c17-06276475dc84"
      },
      "source": [
        "print(correlate(x,w, mode='full'))  # 모든 x의 원소가 연산에 같은수로 참여하는 연산\n",
        "print(correlate(x,w, mode='same'))  # in과 out이 같은 수의 원소를 갖는 연산, 대부분 same패딩 사용"
      ],
      "execution_count": 9,
      "outputs": [
        {
          "output_type": "stream",
          "text": [
            "[ 2  5 10 16 22 28 34 40 46 32 26  9]\n",
            "[ 5 10 16 22 28 34 40 46 32]\n"
          ],
          "name": "stdout"
        }
      ]
    },
    {
      "cell_type": "code",
      "metadata": {
        "id": "9p-sq8yZ8TTG",
        "colab_type": "code",
        "colab": {
          "base_uri": "https://localhost:8080/",
          "height": 52
        },
        "outputId": "48c2b59b-382e-4800-ab49-9a7565ab65b9"
      },
      "source": [
        "x1 = np.array([[1,2,3],[4,5,6],[7,8,9]])\n",
        "w1 = np.array([[2,0],[0,0]])\n",
        "# 2차원 배열의 합성곡 계산\n",
        "from scipy.signal import correlate2d\n",
        "correlate2d(x1, w1, mode='valid')  # valid 패딩을 적용했을 때"
      ],
      "execution_count": 10,
      "outputs": [
        {
          "output_type": "execute_result",
          "data": {
            "text/plain": [
              "array([[ 2,  4],\n",
              "       [ 8, 10]])"
            ]
          },
          "metadata": {
            "tags": []
          },
          "execution_count": 10
        }
      ]
    },
    {
      "cell_type": "code",
      "metadata": {
        "id": "6cK2uM0g87Q8",
        "colab_type": "code",
        "colab": {
          "base_uri": "https://localhost:8080/",
          "height": 70
        },
        "outputId": "c79b7a79-056f-41ea-dd70-54ec45540376"
      },
      "source": [
        "correlate2d(x1, w1, mode='same')  # same 패딩을 적용했을 때... 홀로그램 이미지의 경우 valid 패딩으로 차원의 갯수를 줄이는 것이 좋지 않을까 싶다"
      ],
      "execution_count": 11,
      "outputs": [
        {
          "output_type": "execute_result",
          "data": {
            "text/plain": [
              "array([[ 2,  4,  6],\n",
              "       [ 8, 10, 12],\n",
              "       [14, 16, 18]])"
            ]
          },
          "metadata": {
            "tags": []
          },
          "execution_count": 11
        }
      ]
    },
    {
      "cell_type": "code",
      "metadata": {
        "id": "jKCiPBXG9C0a",
        "colab_type": "code",
        "colab": {}
      },
      "source": [
        "# 텐서플로우로 합성곱 수행\n",
        "import tensorflow as tf\n",
        "x_4d = x1.astype(np.float).reshape(1,3,3,1)  # 배치 1, 컬러 1\n",
        "w_4d = w1.reshape(2,2,1,1)  # 2 by 2, 배치1, 컬러1\n",
        "\n",
        "cout = tf.nn.conv2d(x_4d, w_4d, strides=1, padding='SAME')"
      ],
      "execution_count": 0,
      "outputs": []
    },
    {
      "cell_type": "code",
      "metadata": {
        "id": "asWSLS2T_TQl",
        "colab_type": "code",
        "colab": {
          "base_uri": "https://localhost:8080/",
          "height": 70
        },
        "outputId": "d1d8664e-c94e-40cf-dec1-6c2f9d00a567"
      },
      "source": [
        "cout.numpy().reshape(3,3)"
      ],
      "execution_count": 15,
      "outputs": [
        {
          "output_type": "execute_result",
          "data": {
            "text/plain": [
              "array([[ 2.,  4.,  6.],\n",
              "       [ 8., 10., 12.],\n",
              "       [14., 16., 18.]])"
            ]
          },
          "metadata": {
            "tags": []
          },
          "execution_count": 15
        }
      ]
    },
    {
      "cell_type": "code",
      "metadata": {
        "id": "hEMsD49Q_6XM",
        "colab_type": "code",
        "colab": {}
      },
      "source": [
        "# 맥스 풀링과 에버리지 풀링을 하기\n",
        "x2 = np.array([[1,2,3,4],[5,6,7,8],[9,10,11,12],[13,14,15,16]])\n",
        "x2=x2.reshape(1,4,4,1)"
      ],
      "execution_count": 0,
      "outputs": []
    },
    {
      "cell_type": "code",
      "metadata": {
        "id": "6lzgfjE4Alvt",
        "colab_type": "code",
        "colab": {
          "base_uri": "https://localhost:8080/",
          "height": 52
        },
        "outputId": "75373122-c48a-4b61-dd63-6204947fdcf8"
      },
      "source": [
        "pout = tf.nn.max_pool2d(x2, ksize=2, strides=2, padding='VALID')  # 맥스풀링 커널사이즈2, 스트라이드2, valid 패딩\n",
        "pout.numpy().reshape(2,2)"
      ],
      "execution_count": 23,
      "outputs": [
        {
          "output_type": "execute_result",
          "data": {
            "text/plain": [
              "array([[ 6.,  8.],\n",
              "       [14., 16.]], dtype=float32)"
            ]
          },
          "metadata": {
            "tags": []
          },
          "execution_count": 23
        }
      ]
    },
    {
      "cell_type": "code",
      "metadata": {
        "id": "HnRQo42pA4fO",
        "colab_type": "code",
        "colab": {}
      },
      "source": [
        "# relu 함수 구현하기\n",
        "def relu(x):\n",
        "    return np.maximum(x, 0)"
      ],
      "execution_count": 0,
      "outputs": []
    },
    {
      "cell_type": "code",
      "metadata": {
        "id": "AP1C_uTDBKuR",
        "colab_type": "code",
        "colab": {
          "base_uri": "https://localhost:8080/",
          "height": 34
        },
        "outputId": "ecc6aea5-6bf5-47ab-9db6-9a26847fc1e6"
      },
      "source": [
        "rout = tf.nn.relu(x)\n",
        "rout.numpy()"
      ],
      "execution_count": 26,
      "outputs": [
        {
          "output_type": "execute_result",
          "data": {
            "text/plain": [
              "array([1, 2, 3, 4, 5, 6, 7, 8, 9], dtype=int32)"
            ]
          },
          "metadata": {
            "tags": []
          },
          "execution_count": 26
        }
      ]
    },
    {
      "cell_type": "code",
      "metadata": {
        "id": "OVVGjoShBilN",
        "colab_type": "code",
        "colab": {}
      },
      "source": [
        "class Conv:\n",
        "    def __init__(self, learning_rate=0.01, n_kernels=10, units=10, batch_size=32):\n",
        "        self.units = units\n",
        "        self.kernel_size = 3\n",
        "        self.optimizer = None\n",
        "        self.batch_size = batch_size\n",
        "        self.losses = []\n",
        "        self.val_losses = []\n",
        "        self.lr = learning_rate\n",
        "        self.conv_w = None\n",
        "        self.conv_b = None\n",
        "        self.w1 = None\n",
        "        self.w2 = None\n",
        "        self.b1 = None\n",
        "        self.b2 = None\n",
        "        self.a1 = None\n",
        "        self.n_kernels = n_kernels\n",
        "\n",
        "    def forpass(self, x):\n",
        "        # 3 x 3 합성곱 연산을 수행\n",
        "        cout1 = tf.nn.conv2d(x, self.conv_w, strides=1, padding='SAME') + self.conv_b\n",
        "        # relu 적용\n",
        "        r_out = tf.nn.relu(cout1)\n",
        "        # max pooling\n",
        "        p_out = tf.nn.max_pool2d(r_out, ksize=2, strides=2, padding='VALID')\n",
        "        # 출력을 일렬로 펼치기\n",
        "        f_out = tf.reshape(p_out, [x.shape[0], -1])\n",
        "        z1 = tf.matmul(f_out, self.w1) + self.b1  # 첫 번째 층의 선형식\n",
        "        a1 = tf.nn.relu(z1)  # 활성화 함수(relu) 적용\n",
        "        z2 = tf.matmul(a1, self.w2) + self.b2  # 두 번째 층\n",
        "        return z2\n",
        "        \n",
        "    def training(self, x, y):\n",
        "        m = len(x)\n",
        "        with tf.GradientTape() as tape: \n",
        "            z = self.forpass(x)  # 정방향 계산 수행\n",
        "            loss = tf.nn.softmax_cross_entropy_with_logits(y,z)  # 손실계산\n",
        "            loss = tf.reduce_mean(loss)\n",
        "        weight_list = [self.conv_w, self.conv_b, self.w1, self.b1, self.w2, self.b2]\n",
        "        grads = tape.gradient(loss, weight_list)\n",
        "        self.optimizer.apply_gradients(zip(grads, weight_list))\n",
        "\n",
        "    def fit(self, x, y, epochs=100, x_val=None, y_val=None):\n",
        "        self.init_weight(x.shape, y.shape[1])\n",
        "        self.optimizer = tf.optimizers.SGD(learning_rate=self.lr)\n",
        "        for i in range(epochs):\n",
        "            print('에포크', i, end='')\n",
        "            batch_losses = []\n",
        "            for x_batch, y_batch in self.gen_batch(x,y):\n",
        "                print('.', end='')\n",
        "                self.training(x_batch, y_batch)\n",
        "                batch_losses.append(self.get_loss(x_batch, y_batch))  # 배치 손실 기록\n",
        "            print()\n",
        "            self.losses.append(np.mean(batch_losses))\n",
        "            self.val_losses.append(self.get_loss(x_val, y_val))\n",
        "\n",
        "    def init_weight(self, input_shape, n_classes):\n",
        "        g = tf.initializers.glorot_uniform()\n",
        "        self.conv_w = tf.Variable(g((3,3,1,self.n_kernels)))\n",
        "        self.conv_b = tf.Variable(np.zeros(self.n_kernels), dtype=float)\n",
        "        n_features = 14*14*self.n_kernels\n",
        "        self.w1 = tf.Variable(g((n_features, self.units)))  # 특성 크기와 은닉층 크기\n",
        "        self.b1 = tf.Variable(np.zeros(self.units), dtype=float)\n",
        "        self.w2 = tf.Variable(g((self.units, n_classes)))  # 은닉층의 크기, 클래스 갯수\n",
        "        self.b2 = tf.Variable(np.zeros(n_classes), dtype=float)\n",
        "\n",
        "    def gen_batch(self, x, y):\n",
        "        bins = len(x) // self.batch_size  # 미니 배치 횟수\n",
        "        indexes = np.random.permutation(np.arange(len(x)))  # 인덱스 섞기\n",
        "        x = x[indexes]\n",
        "        y = y[indexes]\n",
        "        for i in range(bins):\n",
        "            start = self.batch_size*i\n",
        "            end = self.batch_size*(i +1)\n",
        "            yield x[start:end], y[start:end]\n",
        "    \n",
        "    def predict(self, x):\n",
        "        z = self.forpass(x)\n",
        "        return np.argmax(z.numpy(), axis=1)\n",
        "\n",
        "    def score(self, x, y):\n",
        "        return np.mean(self.predict(x) == np.argmax(y, axis=1))\n",
        "\n",
        "    def get_loss(self, x, y):\n",
        "        z = self.forpass(x)\n",
        "        loss = tf.reduce_mean(tf.nn.softmax_cross_entropy_with_logits(y, z))\n",
        "        return loss.numpy()"
      ],
      "execution_count": 0,
      "outputs": []
    },
    {
      "cell_type": "code",
      "metadata": {
        "id": "kOD51kwNJh75",
        "colab_type": "code",
        "colab": {
          "base_uri": "https://localhost:8080/",
          "height": 34
        },
        "outputId": "d097c3e9-37d9-40b0-ac9a-23c0b8478f23"
      },
      "source": [
        "# 자동 미분\n",
        "x = tf.Variable(np.array([1.0, 2.0, 3.0]))\n",
        "with tf.GradientTape() as tape:\n",
        "    y = x **3 + 2 * x + 5\n",
        "\n",
        "print(tape.gradient(y, x))"
      ],
      "execution_count": 28,
      "outputs": [
        {
          "output_type": "stream",
          "text": [
            "tf.Tensor([ 5. 14. 29.], shape=(3,), dtype=float64)\n"
          ],
          "name": "stdout"
        }
      ]
    },
    {
      "cell_type": "code",
      "metadata": {
        "id": "aDGGWJRpJ373",
        "colab_type": "code",
        "colab": {
          "base_uri": "https://localhost:8080/",
          "height": 158
        },
        "outputId": "07ac556f-0359-4e3b-ff72-fd9ab7be16b1"
      },
      "source": [
        "(x_train_all, y_train_all), (x_test, y_test) = tf.keras.datasets.fashion_mnist.load_data()\n",
        "\n",
        "from sklearn.model_selection import train_test_split as tts\n",
        "x_train, x_val, y_train, y_val = tts(x_train_all, y_train_all, stratify=y_train_all, test_size=0.2, random_state=42)\n",
        "y_train_encoded = tf.keras.utils.to_categorical(y_train)\n",
        "y_val_encoded = tf.keras.utils.to_categorical(y_val)"
      ],
      "execution_count": 31,
      "outputs": [
        {
          "output_type": "stream",
          "text": [
            "Downloading data from https://storage.googleapis.com/tensorflow/tf-keras-datasets/train-labels-idx1-ubyte.gz\n",
            "32768/29515 [=================================] - 0s 0us/step\n",
            "Downloading data from https://storage.googleapis.com/tensorflow/tf-keras-datasets/train-images-idx3-ubyte.gz\n",
            "26427392/26421880 [==============================] - 0s 0us/step\n",
            "Downloading data from https://storage.googleapis.com/tensorflow/tf-keras-datasets/t10k-labels-idx1-ubyte.gz\n",
            "8192/5148 [===============================================] - 0s 0us/step\n",
            "Downloading data from https://storage.googleapis.com/tensorflow/tf-keras-datasets/t10k-images-idx3-ubyte.gz\n",
            "4423680/4422102 [==============================] - 0s 0us/step\n"
          ],
          "name": "stdout"
        }
      ]
    },
    {
      "cell_type": "code",
      "metadata": {
        "id": "GHDWx4fzSBpg",
        "colab_type": "code",
        "colab": {
          "base_uri": "https://localhost:8080/",
          "height": 34
        },
        "outputId": "c2419851-b3a2-43f4-fafd-061d6e457d02"
      },
      "source": [
        "x_train = x_train.reshape(-1,28,28,1)\n",
        "x_val = x_val.reshape(-1, 28,28,1)\n",
        "\n",
        "print(x_train.shape)"
      ],
      "execution_count": 32,
      "outputs": [
        {
          "output_type": "stream",
          "text": [
            "(48000, 28, 28, 1)\n"
          ],
          "name": "stdout"
        }
      ]
    },
    {
      "cell_type": "code",
      "metadata": {
        "id": "FRykjhJFSQ4B",
        "colab_type": "code",
        "colab": {}
      },
      "source": [
        "x_train = x_train / 255\n",
        "x_val = x_val / 255"
      ],
      "execution_count": 0,
      "outputs": []
    },
    {
      "cell_type": "code",
      "metadata": {
        "id": "GHTBVshsSaRl",
        "colab_type": "code",
        "colab": {
          "base_uri": "https://localhost:8080/",
          "height": 389
        },
        "outputId": "fe781d51-d499-4be7-c35c-efc6712eeed7"
      },
      "source": [
        "cnn = Conv(learning_rate=0.01, n_kernels=10, units=100, batch_size=128)\n",
        "cnn.fit(x_train, y_train_encoded, x_val=x_val, y_val=y_val_encoded, epochs=20)"
      ],
      "execution_count": 41,
      "outputs": [
        {
          "output_type": "stream",
          "text": [
            "에포크 0.......................................................................................................................................................................................................................................................................................................................................................................................\n",
            "에포크 1.......................................................................................................................................................................................................................................................................................................................................................................................\n",
            "에포크 2.......................................................................................................................................................................................................................................................................................................................................................................................\n",
            "에포크 3.......................................................................................................................................................................................................................................................................................................................................................................................\n",
            "에포크 4.......................................................................................................................................................................................................................................................................................................................................................................................\n",
            "에포크 5.......................................................................................................................................................................................................................................................................................................................................................................................\n",
            "에포크 6.......................................................................................................................................................................................................................................................................................................................................................................................\n",
            "에포크 7.......................................................................................................................................................................................................................................................................................................................................................................................\n",
            "에포크 8.......................................................................................................................................................................................................................................................................................................................................................................................\n",
            "에포크 9.......................................................................................................................................................................................................................................................................................................................................................................................\n",
            "에포크 10.......................................................................................................................................................................................................................................................................................................................................................................................\n",
            "에포크 11.......................................................................................................................................................................................................................................................................................................................................................................................\n",
            "에포크 12.......................................................................................................................................................................................................................................................................................................................................................................................\n",
            "에포크 13.......................................................................................................................................................................................................................................................................................................................................................................................\n",
            "에포크 14.......................................................................................................................................................................................................................................................................................................................................................................................\n",
            "에포크 15.......................................................................................................................................................................................................................................................................................................................................................................................\n",
            "에포크 16.......................................................................................................................................................................................................................................................................................................................................................................................\n",
            "에포크 17.......................................................................................................................................................................................................................................................................................................................................................................................\n",
            "에포크 18.......................................................................................................................................................................................................................................................................................................................................................................................\n",
            "에포크 19.......................................................................................................................................................................................................................................................................................................................................................................................\n"
          ],
          "name": "stdout"
        }
      ]
    },
    {
      "cell_type": "code",
      "metadata": {
        "id": "S7s4McT7Svd3",
        "colab_type": "code",
        "colab": {
          "base_uri": "https://localhost:8080/",
          "height": 286
        },
        "outputId": "cbc9b4cd-b53d-4f47-d935-fca577e62954"
      },
      "source": [
        "import matplotlib.pyplot as plt\n",
        "\n",
        "plt.plot(cnn.losses)\n",
        "plt.plot(cnn.val_losses)\n",
        "print(cnn.score(x_val, y_val_encoded))"
      ],
      "execution_count": 42,
      "outputs": [
        {
          "output_type": "stream",
          "text": [
            "0.8696666666666667\n"
          ],
          "name": "stdout"
        },
        {
          "output_type": "display_data",
          "data": {
            "image/png": "[encoded data removed]",
            "text/plain": [
              "<Figure size 432x288 with 1 Axes>"
            ]
          },
          "metadata": {
            "tags": [],
            "needs_background": "light"
          }
        }
      ]
    },
    {
      "cell_type": "code",
      "metadata": {
        "id": "mFsSnsw2WPaq",
        "colab_type": "code",
        "colab": {
          "base_uri": "https://localhost:8080/",
          "height": 334
        },
        "outputId": "c84e0867-d55b-412f-c35f-931e75567b8c"
      },
      "source": [
        "# 케라스로 CNN 만들기\n",
        "from tensorflow.keras.layers import Conv2D, MaxPooling2D, Flatten, Dense\n",
        "\n",
        "# 합성곱층 쌓기\n",
        "conv1 = tf.keras.Sequential()  # 컨볼루션을 위한 모델을 하나 쌓기\n",
        "conv1.add(Conv2D(10, (3,3), activation='relu', padding='same', input_shape=(28,28,1)))  # 합성곱층\n",
        "conv1.add(MaxPooling2D((2,2)))  # 2x2로 maxpooling\n",
        "conv1.add(Flatten())  # 완전 연결층에 연결\n",
        "conv1.add(Dense(100, activation='relu'))  # 완전연결층으로 하기\n",
        "conv1.add(Dense(10, activation='softmax'))  # 완전연결층 10개로 소프트맥스\n",
        "\n",
        "conv1.summary()"
      ],
      "execution_count": 43,
      "outputs": [
        {
          "output_type": "stream",
          "text": [
            "Model: \"sequential\"\n",
            "_________________________________________________________________\n",
            "Layer (type)                 Output Shape              Param #   \n",
            "=================================================================\n",
            "conv2d (Conv2D)              (None, 28, 28, 10)        100       \n",
            "_________________________________________________________________\n",
            "max_pooling2d (MaxPooling2D) (None, 14, 14, 10)        0         \n",
            "_________________________________________________________________\n",
            "flatten (Flatten)            (None, 1960)              0         \n",
            "_________________________________________________________________\n",
            "dense (Dense)                (None, 100)               196100    \n",
            "_________________________________________________________________\n",
            "dense_1 (Dense)              (None, 10)                1010      \n",
            "=================================================================\n",
            "Total params: 197,210\n",
            "Trainable params: 197,210\n",
            "Non-trainable params: 0\n",
            "_________________________________________________________________\n"
          ],
          "name": "stdout"
        }
      ]
    },
    {
      "cell_type": "code",
      "metadata": {
        "id": "nqmpL6X2XgZY",
        "colab_type": "code",
        "colab": {
          "base_uri": "https://localhost:8080/",
          "height": 721
        },
        "outputId": "7e319869-b27f-42c1-d5f8-5a60b54a6b52"
      },
      "source": [
        "# CNN 모델 훈련하기\n",
        "conv1.compile(optimizer='adam', loss='categorical_crossentropy', metrics=['accuracy'])\n",
        "\n",
        "History = conv1.fit(x_train, y_train_encoded, epochs=20, validation_data=(x_val, y_val_encoded))"
      ],
      "execution_count": 44,
      "outputs": [
        {
          "output_type": "stream",
          "text": [
            "Epoch 1/20\n",
            "1500/1500 [==============================] - 24s 16ms/step - loss: 0.4515 - accuracy: 0.8404 - val_loss: 0.3253 - val_accuracy: 0.8853\n",
            "Epoch 2/20\n",
            "1500/1500 [==============================] - 25s 16ms/step - loss: 0.3101 - accuracy: 0.8885 - val_loss: 0.3047 - val_accuracy: 0.8913\n",
            "Epoch 3/20\n",
            "1500/1500 [==============================] - 24s 16ms/step - loss: 0.2638 - accuracy: 0.9025 - val_loss: 0.2728 - val_accuracy: 0.9043\n",
            "Epoch 4/20\n",
            "1500/1500 [==============================] - 26s 17ms/step - loss: 0.2318 - accuracy: 0.9161 - val_loss: 0.2539 - val_accuracy: 0.9088\n",
            "Epoch 5/20\n",
            "1500/1500 [==============================] - 30s 20ms/step - loss: 0.2068 - accuracy: 0.9223 - val_loss: 0.2575 - val_accuracy: 0.9097\n",
            "Epoch 6/20\n",
            "1500/1500 [==============================] - 24s 16ms/step - loss: 0.1854 - accuracy: 0.9330 - val_loss: 0.2371 - val_accuracy: 0.9172\n",
            "Epoch 7/20\n",
            "1500/1500 [==============================] - 24s 16ms/step - loss: 0.1673 - accuracy: 0.9390 - val_loss: 0.2488 - val_accuracy: 0.9135\n",
            "Epoch 8/20\n",
            "1500/1500 [==============================] - 30s 20ms/step - loss: 0.1513 - accuracy: 0.9443 - val_loss: 0.2455 - val_accuracy: 0.9175\n",
            "Epoch 9/20\n",
            "1500/1500 [==============================] - 30s 20ms/step - loss: 0.1333 - accuracy: 0.9520 - val_loss: 0.2469 - val_accuracy: 0.9197\n",
            "Epoch 10/20\n",
            "1500/1500 [==============================] - 31s 21ms/step - loss: 0.1201 - accuracy: 0.9571 - val_loss: 0.2628 - val_accuracy: 0.9159\n",
            "Epoch 11/20\n",
            "1500/1500 [==============================] - 32s 21ms/step - loss: 0.1100 - accuracy: 0.9598 - val_loss: 0.2521 - val_accuracy: 0.9210\n",
            "Epoch 12/20\n",
            "1500/1500 [==============================] - 30s 20ms/step - loss: 0.0977 - accuracy: 0.9637 - val_loss: 0.2839 - val_accuracy: 0.9141\n",
            "Epoch 13/20\n",
            "1500/1500 [==============================] - 30s 20ms/step - loss: 0.0872 - accuracy: 0.9672 - val_loss: 0.2838 - val_accuracy: 0.9219\n",
            "Epoch 14/20\n",
            "1500/1500 [==============================] - 30s 20ms/step - loss: 0.0812 - accuracy: 0.9702 - val_loss: 0.3049 - val_accuracy: 0.9187\n",
            "Epoch 15/20\n",
            "1500/1500 [==============================] - 38s 25ms/step - loss: 0.0695 - accuracy: 0.9741 - val_loss: 0.3127 - val_accuracy: 0.9154\n",
            "Epoch 16/20\n",
            "1500/1500 [==============================] - 24s 16ms/step - loss: 0.0636 - accuracy: 0.9768 - val_loss: 0.3455 - val_accuracy: 0.9139\n",
            "Epoch 17/20\n",
            "1500/1500 [==============================] - 25s 17ms/step - loss: 0.0586 - accuracy: 0.9788 - val_loss: 0.3576 - val_accuracy: 0.9147\n",
            "Epoch 18/20\n",
            "1500/1500 [==============================] - 24s 16ms/step - loss: 0.0516 - accuracy: 0.9804 - val_loss: 0.3608 - val_accuracy: 0.9173\n",
            "Epoch 19/20\n",
            "1500/1500 [==============================] - 24s 16ms/step - loss: 0.0482 - accuracy: 0.9821 - val_loss: 0.3972 - val_accuracy: 0.9168\n",
            "Epoch 20/20\n",
            "1500/1500 [==============================] - 25s 17ms/step - loss: 0.0409 - accuracy: 0.9856 - val_loss: 0.4025 - val_accuracy: 0.9153\n"
          ],
          "name": "stdout"
        }
      ]
    },
    {
      "cell_type": "code",
      "metadata": {
        "id": "-iWS6tjLYEUc",
        "colab_type": "code",
        "colab": {
          "base_uri": "https://localhost:8080/",
          "height": 282
        },
        "outputId": "dc6776d5-8076-4c06-b97c-9df57df9a2c2"
      },
      "source": [
        "plt.plot(History.history['loss'])\n",
        "plt.plot(History.history['val_loss'])"
      ],
      "execution_count": 46,
      "outputs": [
        {
          "output_type": "execute_result",
          "data": {
            "text/plain": [
              "[<matplotlib.lines.Line2D at 0x7f1eef429668>]"
            ]
          },
          "metadata": {
            "tags": []
          },
          "execution_count": 46
        },
        {
          "output_type": "display_data",
          "data": {
            "image/png": "[encoded data removed]",
            "text/plain": [
              "<Figure size 432x288 with 1 Axes>"
            ]
          },
          "metadata": {
            "tags": [],
            "needs_background": "light"
          }
        }
      ]
    },
    {
      "cell_type": "code",
      "metadata": {
        "id": "RSsuDu86a57I",
        "colab_type": "code",
        "colab": {
          "base_uri": "https://localhost:8080/",
          "height": 369
        },
        "outputId": "d36b87c8-f176-4f2f-a7dc-86b151a953e8"
      },
      "source": [
        "# 케라스로 CNN 만들기\n",
        "from tensorflow.keras.layers import Dropout\n",
        "\n",
        "# 드롭아웃 적용하기\n",
        "conv2 = tf.keras.Sequential()  # 컨볼루션을 위한 모델을 하나 쌓기\n",
        "conv2.add(Conv2D(10, (3,3), activation='relu', padding='same', input_shape=(28,28,1)))  # 합성곱층\n",
        "conv2.add(MaxPooling2D((2,2)))  # 2x2로 maxpooling\n",
        "conv2.add(Flatten())  # 완전 연결층에 연결\n",
        "conv2.add(Dropout(0.5))\n",
        "conv2.add(Dense(100, activation='relu'))  # 완전연결층으로 하기\n",
        "conv2.add(Dense(10, activation='softmax'))  # 완전연결층 10개로 소프트맥스\n",
        "\n",
        "conv2.summary()"
      ],
      "execution_count": 48,
      "outputs": [
        {
          "output_type": "stream",
          "text": [
            "Model: \"sequential_2\"\n",
            "_________________________________________________________________\n",
            "Layer (type)                 Output Shape              Param #   \n",
            "=================================================================\n",
            "conv2d_2 (Conv2D)            (None, 28, 28, 10)        100       \n",
            "_________________________________________________________________\n",
            "max_pooling2d_2 (MaxPooling2 (None, 14, 14, 10)        0         \n",
            "_________________________________________________________________\n",
            "flatten_2 (Flatten)          (None, 1960)              0         \n",
            "_________________________________________________________________\n",
            "dropout_1 (Dropout)          (None, 1960)              0         \n",
            "_________________________________________________________________\n",
            "dense_4 (Dense)              (None, 100)               196100    \n",
            "_________________________________________________________________\n",
            "dense_5 (Dense)              (None, 10)                1010      \n",
            "=================================================================\n",
            "Total params: 197,210\n",
            "Trainable params: 197,210\n",
            "Non-trainable params: 0\n",
            "_________________________________________________________________\n"
          ],
          "name": "stdout"
        }
      ]
    },
    {
      "cell_type": "code",
      "metadata": {
        "id": "8Azo5CV0bJSj",
        "colab_type": "code",
        "colab": {}
      },
      "source": [
        ""
      ],
      "execution_count": 0,
      "outputs": []
    }
  ]
}