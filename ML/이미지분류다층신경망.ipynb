{
  "nbformat": 4,
  "nbformat_minor": 0,
  "metadata": {
    "colab": {
      "name": "이미지분류다층신경망.ipynb",
      "provenance": []
    },
    "kernelspec": {
      "name": "python3",
      "display_name": "Python 3"
    }
  },
  "cells": [
    {
      "cell_type": "code",
      "metadata": {
        "id": "4rPcubV1wOdP",
        "colab_type": "code",
        "colab": {}
      },
      "source": [
        "import numpy as np\n",
        "\n",
        "class Multiclass:\n",
        "    def __init__(self, units=10,batch_size=32, learning_rate=0.1, l1=0, l2=0):\n",
        "        self.units = units\n",
        "        self.w1 = None\n",
        "        self.b1 = None\n",
        "        self.w2 = None\n",
        "        self.b2 = None\n",
        "        self.a1 = None\n",
        "        self.losses = []\n",
        "        self.val_losses = []\n",
        "        self.lr = learning_rate\n",
        "        self.l1 = l1\n",
        "        self.l2 = l2\n",
        "        self.batch_size = batch_size\n",
        "\n",
        "    def forpass(self, x):\n",
        "        z1 = np.dot(x, self.w1) + self.b1  # 첫 번째 층 \n",
        "        self.a1 = self.sigmoid(z1)\n",
        "        z2 = np.dot(self.a1, self.w2) +self.b2  # 두 번째 층\n",
        "        return z2\n",
        "\n",
        "    def backprop(self, x, error):\n",
        "        m = len(x)\n",
        "        # 역방향 진행에 전치행렬곱을 적용\n",
        "        w2_grad = np.dot(self.a1.T, error) / m\n",
        "        b2_grad = np.sum(error) / m\n",
        "        error_to_hidden = np.dot(error, self.w2.T) * self.a1 * (1-self.a1)\n",
        "        w1_grad = np.dot(x.T, error_to_hidden) / m\n",
        "        b1_grad = np.sum(error_to_hidden, axis=0) / m\n",
        "        return w1_grad, b1_grad, w2_grad, b2_grad\n",
        "\n",
        "    def fit(self, x, y, epochs=100, x_val=None, y_val=None):\n",
        "        np.random.seed(42)  # 은닉층과 출력층의 가중치를 초기화\n",
        "        self.init_weight(x.shape[1], y.shape[1])\n",
        "        m = len(x)\n",
        "        for i in range(epochs): # 에포크 수 만큼 돌리기\n",
        "            loss = 0\n",
        "            print('.', end=' ')\n",
        "            # 제너레이터에서 반환한 미니배치 순환\n",
        "            for x_batch, y_batch in self.gen_batch(x, y):\n",
        "                #y_batch = y_batch.reshape(-1,1)\n",
        "                #m = len(x_batch)\n",
        "                a = self.training(x_batch, y_batch)\n",
        "                a = np.clip(a, 1e-10, 1-1e-10)\n",
        "                loss += np.sum(-(y_batch*np.log(a)))\n",
        "            self.losses.append((loss + self.reg_loss()) / m)\n",
        "            self.updata_val_loss(x_val, y_val)\n",
        "\n",
        "    def training(self, x, y):\n",
        "        # 훈련하는 메서드\n",
        "        m = len(x)\n",
        "        z = self.forpass(x)\n",
        "        a = self.softmax(z)\n",
        "        err = -(y - a)\n",
        "        w1_grad, b1_grad, w2_grad, b2_grad = self.backprop(x, err)  # 오차 역전파, 그라디언트 계산\n",
        "        w1_grad += (self.l1*np.sign(self.w1) + self.l2*self.w1)/m\n",
        "        w2_grad += (self.l1*np.sign(self.w2) + self.l2 * self.w2) / m\n",
        "        # 절편 업데이트\n",
        "        self.w1 -= self.lr*w1_grad  # 은닉층, 출력층 가중치 업데이트\n",
        "        self.w2 -= self.lr*w2_grad\n",
        "        self.b1 -= self.lr*b1_grad \n",
        "        self.b2 -= self.lr*b2_grad\n",
        "        return a\n",
        "\n",
        "    def init_weight(self, n_feature, n_classes):\n",
        "        # 변수를 초기화\n",
        "        self.w1 = np.random.normal(0,1, (n_feature, self.units))\n",
        "        self.b1 = np.zeros(self.units)\n",
        "        self.w2 = np.random.normal(0,1, (self.units, n_classes))\n",
        "        self.b2 = np.zeros(n_classes)\n",
        "\n",
        "    def gen_batch(self, x, y):\n",
        "        length = len(x)\n",
        "        bins = length // self.batch_size\n",
        "        if length % self.batch_size:\n",
        "            bins += 1\n",
        "        indexes = np.random.permutation(np.arange(len(x)))  # 인덱스를 섞는다\n",
        "        x = x[indexes]\n",
        "        y = y[indexes]\n",
        "        for i in range(bins):\n",
        "            start = self.batch_size * i\n",
        "            end = self.batch_size * (i + 1)\n",
        "            yield x[start:end], y[start:end]\n",
        "\n",
        "    def sigmoid(self, z):\n",
        "        #시그모이드 함수\n",
        "        a = 1 / (1 + np.exp(-z))\n",
        "        return a\n",
        "\n",
        "    def softmax(self, z):\n",
        "        exp_z = np.exp(z)\n",
        "        return exp_z/ np.sum(exp_z, axis=1).reshape(-1, 1)\n",
        "    \n",
        "    def predict(self, x):\n",
        "        z = self.forpass(x)\n",
        "        return np.argmax(z, axis=1)  # 가장 큰 값의 인덱스를 반환한다.\n",
        "\n",
        "    def score(self, x, y):\n",
        "        return np.mean(self.predict(x) == np.argmax(y, axis=1))\n",
        "\n",
        "    def updata_val_loss(self, x_val, y_val):\n",
        "        # 검증 손실 계산하기\n",
        "        z = self.forpass(x_val)\n",
        "        a = self.softmax(z)\n",
        "        a = np.clip(a, 1e-10, 1-1e-10)\n",
        "        val_loss = np.sum(-(y_val*np.log(a)))\n",
        "        self.val_losses.append((val_loss + self.reg_loss())/ len(y_val))\n",
        "\n",
        "    def reg_loss(self):\n",
        "        return self.l1 * (np.sum(np.abs(self.w1)) + np.sum(np.abs(self.w2))) + self.l2/2 * (np.sum(self.w1**2) + np.sum(self.w2**2))"
      ],
      "execution_count": 0,
      "outputs": []
    },
    {
      "cell_type": "code",
      "metadata": {
        "id": "rwXgLC3dC1UM",
        "colab_type": "code",
        "colab": {
          "base_uri": "https://localhost:8080/",
          "height": 34
        },
        "outputId": "3532b25b-750a-4ff1-9637-cdd627e61512"
      },
      "source": [
        "# MNIST 를 가져와서 분류하기\n",
        "import tensorflow as tf\n",
        "tf.__version__"
      ],
      "execution_count": 14,
      "outputs": [
        {
          "output_type": "execute_result",
          "data": {
            "text/plain": [
              "'2.2.0'"
            ]
          },
          "metadata": {
            "tags": []
          },
          "execution_count": 14
        }
      ]
    },
    {
      "cell_type": "code",
      "metadata": {
        "id": "dI52kOdeMLft",
        "colab_type": "code",
        "colab": {}
      },
      "source": [
        "(x_train_all, y_train_all), (x_test, y_test) = tf.keras.datasets.fashion_mnist.load_data()"
      ],
      "execution_count": 0,
      "outputs": []
    },
    {
      "cell_type": "code",
      "metadata": {
        "id": "R99OW48lMVXU",
        "colab_type": "code",
        "colab": {
          "base_uri": "https://localhost:8080/",
          "height": 34
        },
        "outputId": "cabc7d13-3d6f-40bb-d8d1-640f63997a5b"
      },
      "source": [
        "print(x_train_all.shape, y_train_all.shape)"
      ],
      "execution_count": 4,
      "outputs": [
        {
          "output_type": "stream",
          "text": [
            "(60000, 28, 28) (60000,)\n"
          ],
          "name": "stdout"
        }
      ]
    },
    {
      "cell_type": "code",
      "metadata": {
        "id": "oR1VRdKrMekk",
        "colab_type": "code",
        "colab": {
          "base_uri": "https://localhost:8080/",
          "height": 282
        },
        "outputId": "0faedce6-b794-4436-a0a3-1098dbeebadc"
      },
      "source": [
        "import matplotlib.pyplot as plt\n",
        "plt.imshow(x_train_all[0])"
      ],
      "execution_count": 5,
      "outputs": [
        {
          "output_type": "execute_result",
          "data": {
            "text/plain": [
              "<matplotlib.image.AxesImage at 0x7f5f0b6a9588>"
            ]
          },
          "metadata": {
            "tags": []
          },
          "execution_count": 5
        },
        {
          "output_type": "display_data",
          "data": {
            "image/png": "[encoded data removed]",
            "text/plain": [
              "<Figure size 432x288 with 1 Axes>"
            ]
          },
          "metadata": {
            "tags": [],
            "needs_background": "light"
          }
        }
      ]
    },
    {
      "cell_type": "code",
      "metadata": {
        "id": "1Clt6YH4MqGD",
        "colab_type": "code",
        "colab": {
          "base_uri": "https://localhost:8080/",
          "height": 34
        },
        "outputId": "9ae83485-e6a5-4dd7-bd69-cd1d62095825"
      },
      "source": [
        "print(y_train_all[:10])  # MNIST의 각 의미, 0부터 9까지 10 개의 레이블이 있다."
      ],
      "execution_count": 6,
      "outputs": [
        {
          "output_type": "stream",
          "text": [
            "[9 0 0 3 0 2 7 2 5 5]\n"
          ],
          "name": "stdout"
        }
      ]
    },
    {
      "cell_type": "code",
      "metadata": {
        "id": "z3NUyAe0MubU",
        "colab_type": "code",
        "colab": {
          "base_uri": "https://localhost:8080/",
          "height": 34
        },
        "outputId": "1325d71b-28fe-49d3-8744-546145346578"
      },
      "source": [
        "np.bincount(y_train_all)  # 배열의 정수값을 등장횟수를 세어 정수값에 해당하는 인덱스 위치 저장"
      ],
      "execution_count": 7,
      "outputs": [
        {
          "output_type": "execute_result",
          "data": {
            "text/plain": [
              "array([6000, 6000, 6000, 6000, 6000, 6000, 6000, 6000, 6000, 6000])"
            ]
          },
          "metadata": {
            "tags": []
          },
          "execution_count": 7
        }
      ]
    },
    {
      "cell_type": "code",
      "metadata": {
        "id": "bl4xP1TtM5ss",
        "colab_type": "code",
        "colab": {
          "base_uri": "https://localhost:8080/",
          "height": 52
        },
        "outputId": "22b4fb01-1b77-464e-f370-0db869787d20"
      },
      "source": [
        "# 레이블을 나누기\n",
        "from sklearn.model_selection import train_test_split\n",
        "x_train, x_val, y_train, y_val = train_test_split(x_train_all, y_train_all, stratify=y_train_all, test_size=0.2, random_state=42)\n",
        "print(np.bincount(y_train))\n",
        "print(np.bincount(y_val))"
      ],
      "execution_count": 8,
      "outputs": [
        {
          "output_type": "stream",
          "text": [
            "[4800 4800 4800 4800 4800 4800 4800 4800 4800 4800]\n",
            "[1200 1200 1200 1200 1200 1200 1200 1200 1200 1200]\n"
          ],
          "name": "stdout"
        }
      ]
    },
    {
      "cell_type": "code",
      "metadata": {
        "id": "T95v_4s6Nfex",
        "colab_type": "code",
        "colab": {}
      },
      "source": [
        "# 입력 데이터 정규화 하기(픽셀 값이 255로 나눠져잇기 때문에)\n",
        "x_train = x_train / 255\n",
        "x_val = x_val / 255\n",
        "\n",
        "# 차원 변경하기 . 28 * 28의 샘플을 784의 길이로 펼치기\n",
        "x_train = x_train.reshape(-1, 784)\n",
        "x_val = x_val.reshape(-1, 784)"
      ],
      "execution_count": 0,
      "outputs": []
    },
    {
      "cell_type": "code",
      "metadata": {
        "id": "Rn4VJzEzOF0J",
        "colab_type": "code",
        "colab": {
          "base_uri": "https://localhost:8080/",
          "height": 34
        },
        "outputId": "a7507503-2c72-4a0e-fc62-a123e6992569"
      },
      "source": [
        "# 샘플들을 원-핫-인코딩 하기\n",
        "y_train_encoded = tf.keras.utils.to_categorical(y_train)\n",
        "y_val_encoded = tf.keras.utils.to_categorical(y_val)\n",
        "print(y_train_encoded.shape, y_val_encoded.shape)"
      ],
      "execution_count": 10,
      "outputs": [
        {
          "output_type": "stream",
          "text": [
            "(48000, 10) (12000, 10)\n"
          ],
          "name": "stdout"
        }
      ]
    },
    {
      "cell_type": "code",
      "metadata": {
        "id": "ufeTsyPo7z9N",
        "colab_type": "code",
        "colab": {
          "base_uri": "https://localhost:8080/",
          "height": 34
        },
        "outputId": "b21c2a47-99b5-4150-b4c1-7c1184444945"
      },
      "source": [
        "# 레이블을 출력해보기\n",
        "print(y_train[0],y_train_encoded[0])"
      ],
      "execution_count": 11,
      "outputs": [
        {
          "output_type": "stream",
          "text": [
            "6 [0. 0. 0. 0. 0. 0. 1. 0. 0. 0.]\n"
          ],
          "name": "stdout"
        }
      ]
    },
    {
      "cell_type": "code",
      "metadata": {
        "id": "5VLG4TYl8AGi",
        "colab_type": "code",
        "colab": {
          "base_uri": "https://localhost:8080/",
          "height": 34
        },
        "outputId": "f9edd612-35b8-46f8-e0ed-9d1a48bc23cd"
      },
      "source": [
        "# 다중 분류 신경망 훈련하기\n",
        "fc = Multiclass(units=100, batch_size=256)\n",
        "fc.fit(x_train, y_train_encoded, x_val=x_val, y_val=y_val_encoded, epochs=40)"
      ],
      "execution_count": 26,
      "outputs": [
        {
          "output_type": "stream",
          "text": [
            ". . . . . . . . . . . . . . . . . . . . . . . . . . . . . . . . . . . . . . . . "
          ],
          "name": "stdout"
        }
      ]
    },
    {
      "cell_type": "code",
      "metadata": {
        "id": "7eMYERRB8a5O",
        "colab_type": "code",
        "colab": {
          "base_uri": "https://localhost:8080/",
          "height": 282
        },
        "outputId": "fd4fcca5-c9cf-4185-fa1e-552b6a9320e4"
      },
      "source": [
        "plt.plot(fc.losses)\n",
        "plt.plot(fc.val_losses)\n",
        "\n",
        "print(fc.score(x_val, y_val_encoded))"
      ],
      "execution_count": 27,
      "outputs": [
        {
          "output_type": "stream",
          "text": [
            "0.8150833333333334\n"
          ],
          "name": "stdout"
        },
        {
          "output_type": "display_data",
          "data": {
            "image/png": "[encoded data removed]",
            "text/plain": [
              "<Figure size 432x288 with 1 Axes>"
            ]
          },
          "metadata": {
            "tags": [],
            "needs_background": "light"
          }
        }
      ]
    },
    {
      "cell_type": "markdown",
      "metadata": {
        "id": "nSkQDnP1-qx_",
        "colab_type": "text"
      },
      "source": [
        "# 텐서플로우와 케라스로 신경망 만들기\n"
      ]
    },
    {
      "cell_type": "code",
      "metadata": {
        "id": "10bOUX7V-ffr",
        "colab_type": "code",
        "colab": {
          "base_uri": "https://localhost:8080/",
          "height": 298
        },
        "outputId": "b5800897-7be6-4e91-df7a-69fdef3339e7"
      },
      "source": [
        "# 텐서플로우를 사용하는 경우 간단한 신경망 구현\n",
        "\n",
        "# 훈련할 가중치 변수 선언 \n",
        "w = tf.Variable(tf.zeros(shape=(1)))\n",
        "b = tf.Variable(tf.zeros(shape=(1)))\n",
        "\n",
        "# 경사 하강법 옵티마이져 사용\n",
        "optimizer = tf.optimizers.SGD(learning_rate=0.01)  # 학습율 0.01로\n",
        "# 에포크 설정\n",
        "epoch = 10\n",
        "for step in range(epoch):\n",
        "    with tf.GradientTape() as tape:\n",
        "        # 자동 미분을 위한 연산과정 기록\n",
        "        z_net = w * x_train + b\n",
        "        z_net = tf.reshape(z_net, [-1])\n",
        "        sqr_error = tf.square(y_train - z_net)\n",
        "        mean_cost = tf.reduce_mean(sqr_error)\n",
        "    grads = tape.gradient(mean_cost, [w,b])\n",
        "    optimizer.apply_gradients(zip(grads, [w,b]))"
      ],
      "execution_count": 28,
      "outputs": [
        {
          "output_type": "error",
          "ename": "InvalidArgumentError",
          "evalue": "ignored",
          "traceback": [
            "\u001b[0;31m---------------------------------------------------------------------------\u001b[0m",
            "\u001b[0;31mInvalidArgumentError\u001b[0m                      Traceback (most recent call last)",
            "\u001b[0;32m<ipython-input-28-dce47eb41fde>\u001b[0m in \u001b[0;36m<module>\u001b[0;34m()\u001b[0m\n\u001b[1;32m     14\u001b[0m         \u001b[0mz_net\u001b[0m \u001b[0;34m=\u001b[0m \u001b[0mw\u001b[0m \u001b[0;34m*\u001b[0m \u001b[0mx_train\u001b[0m \u001b[0;34m+\u001b[0m \u001b[0mb\u001b[0m\u001b[0;34m\u001b[0m\u001b[0;34m\u001b[0m\u001b[0m\n\u001b[1;32m     15\u001b[0m         \u001b[0mz_net\u001b[0m \u001b[0;34m=\u001b[0m \u001b[0mtf\u001b[0m\u001b[0;34m.\u001b[0m\u001b[0mreshape\u001b[0m\u001b[0;34m(\u001b[0m\u001b[0mz_net\u001b[0m\u001b[0;34m,\u001b[0m \u001b[0;34m[\u001b[0m\u001b[0;34m-\u001b[0m\u001b[0;36m1\u001b[0m\u001b[0;34m]\u001b[0m\u001b[0;34m)\u001b[0m\u001b[0;34m\u001b[0m\u001b[0;34m\u001b[0m\u001b[0m\n\u001b[0;32m---> 16\u001b[0;31m         \u001b[0msqr_error\u001b[0m \u001b[0;34m=\u001b[0m \u001b[0mtf\u001b[0m\u001b[0;34m.\u001b[0m\u001b[0msquare\u001b[0m\u001b[0;34m(\u001b[0m\u001b[0my_train\u001b[0m \u001b[0;34m-\u001b[0m \u001b[0mz_net\u001b[0m\u001b[0;34m)\u001b[0m\u001b[0;34m\u001b[0m\u001b[0;34m\u001b[0m\u001b[0m\n\u001b[0m\u001b[1;32m     17\u001b[0m         \u001b[0mmean_cost\u001b[0m \u001b[0;34m=\u001b[0m \u001b[0mtf\u001b[0m\u001b[0;34m.\u001b[0m\u001b[0mreduce_mean\u001b[0m\u001b[0;34m(\u001b[0m\u001b[0msqr_error\u001b[0m\u001b[0;34m)\u001b[0m\u001b[0;34m\u001b[0m\u001b[0;34m\u001b[0m\u001b[0m\n\u001b[1;32m     18\u001b[0m     \u001b[0mgrads\u001b[0m \u001b[0;34m=\u001b[0m \u001b[0mtape\u001b[0m\u001b[0;34m.\u001b[0m\u001b[0mgradient\u001b[0m\u001b[0;34m(\u001b[0m\u001b[0mmean_cost\u001b[0m\u001b[0;34m,\u001b[0m \u001b[0;34m[\u001b[0m\u001b[0mw\u001b[0m\u001b[0;34m,\u001b[0m\u001b[0mb\u001b[0m\u001b[0;34m]\u001b[0m\u001b[0;34m)\u001b[0m\u001b[0;34m\u001b[0m\u001b[0;34m\u001b[0m\u001b[0m\n",
            "\u001b[0;32m/usr/local/lib/python3.6/dist-packages/tensorflow/python/ops/math_ops.py\u001b[0m in \u001b[0;36mr_binary_op_wrapper\u001b[0;34m(y, x)\u001b[0m\n\u001b[1;32m   1008\u001b[0m     \u001b[0;32mwith\u001b[0m \u001b[0mops\u001b[0m\u001b[0;34m.\u001b[0m\u001b[0mname_scope\u001b[0m\u001b[0;34m(\u001b[0m\u001b[0;32mNone\u001b[0m\u001b[0;34m,\u001b[0m \u001b[0mop_name\u001b[0m\u001b[0;34m,\u001b[0m \u001b[0;34m[\u001b[0m\u001b[0mx\u001b[0m\u001b[0;34m,\u001b[0m \u001b[0my\u001b[0m\u001b[0;34m]\u001b[0m\u001b[0;34m)\u001b[0m \u001b[0;32mas\u001b[0m \u001b[0mname\u001b[0m\u001b[0;34m:\u001b[0m\u001b[0;34m\u001b[0m\u001b[0;34m\u001b[0m\u001b[0m\n\u001b[1;32m   1009\u001b[0m       \u001b[0mx\u001b[0m \u001b[0;34m=\u001b[0m \u001b[0mops\u001b[0m\u001b[0;34m.\u001b[0m\u001b[0mconvert_to_tensor\u001b[0m\u001b[0;34m(\u001b[0m\u001b[0mx\u001b[0m\u001b[0;34m,\u001b[0m \u001b[0mdtype\u001b[0m\u001b[0;34m=\u001b[0m\u001b[0my\u001b[0m\u001b[0;34m.\u001b[0m\u001b[0mdtype\u001b[0m\u001b[0;34m.\u001b[0m\u001b[0mbase_dtype\u001b[0m\u001b[0;34m,\u001b[0m \u001b[0mname\u001b[0m\u001b[0;34m=\u001b[0m\u001b[0;34m\"x\"\u001b[0m\u001b[0;34m)\u001b[0m\u001b[0;34m\u001b[0m\u001b[0;34m\u001b[0m\u001b[0m\n\u001b[0;32m-> 1010\u001b[0;31m       \u001b[0;32mreturn\u001b[0m \u001b[0mfunc\u001b[0m\u001b[0;34m(\u001b[0m\u001b[0mx\u001b[0m\u001b[0;34m,\u001b[0m \u001b[0my\u001b[0m\u001b[0;34m,\u001b[0m \u001b[0mname\u001b[0m\u001b[0;34m=\u001b[0m\u001b[0mname\u001b[0m\u001b[0;34m)\u001b[0m\u001b[0;34m\u001b[0m\u001b[0;34m\u001b[0m\u001b[0m\n\u001b[0m\u001b[1;32m   1011\u001b[0m \u001b[0;34m\u001b[0m\u001b[0m\n\u001b[1;32m   1012\u001b[0m   \u001b[0;31m# Propagate func.__doc__ to the wrappers\u001b[0m\u001b[0;34m\u001b[0m\u001b[0;34m\u001b[0m\u001b[0;34m\u001b[0m\u001b[0m\n",
            "\u001b[0;32m/usr/local/lib/python3.6/dist-packages/tensorflow/python/ops/gen_math_ops.py\u001b[0m in \u001b[0;36msub\u001b[0;34m(x, y, name)\u001b[0m\n\u001b[1;32m  10098\u001b[0m         \u001b[0;32mpass\u001b[0m  \u001b[0;31m# Add nodes to the TensorFlow graph.\u001b[0m\u001b[0;34m\u001b[0m\u001b[0;34m\u001b[0m\u001b[0m\n\u001b[1;32m  10099\u001b[0m     \u001b[0;32mexcept\u001b[0m \u001b[0m_core\u001b[0m\u001b[0;34m.\u001b[0m\u001b[0m_NotOkStatusException\u001b[0m \u001b[0;32mas\u001b[0m \u001b[0me\u001b[0m\u001b[0;34m:\u001b[0m\u001b[0;34m\u001b[0m\u001b[0;34m\u001b[0m\u001b[0m\n\u001b[0;32m> 10100\u001b[0;31m       \u001b[0m_ops\u001b[0m\u001b[0;34m.\u001b[0m\u001b[0mraise_from_not_ok_status\u001b[0m\u001b[0;34m(\u001b[0m\u001b[0me\u001b[0m\u001b[0;34m,\u001b[0m \u001b[0mname\u001b[0m\u001b[0;34m)\u001b[0m\u001b[0;34m\u001b[0m\u001b[0;34m\u001b[0m\u001b[0m\n\u001b[0m\u001b[1;32m  10101\u001b[0m   \u001b[0;31m# Add nodes to the TensorFlow graph.\u001b[0m\u001b[0;34m\u001b[0m\u001b[0;34m\u001b[0m\u001b[0;34m\u001b[0m\u001b[0m\n\u001b[1;32m  10102\u001b[0m   _, _, _op, _outputs = _op_def_library._apply_op_helper(\n",
            "\u001b[0;32m/usr/local/lib/python3.6/dist-packages/tensorflow/python/framework/ops.py\u001b[0m in \u001b[0;36mraise_from_not_ok_status\u001b[0;34m(e, name)\u001b[0m\n\u001b[1;32m   6651\u001b[0m   \u001b[0mmessage\u001b[0m \u001b[0;34m=\u001b[0m \u001b[0me\u001b[0m\u001b[0;34m.\u001b[0m\u001b[0mmessage\u001b[0m \u001b[0;34m+\u001b[0m \u001b[0;34m(\u001b[0m\u001b[0;34m\" name: \"\u001b[0m \u001b[0;34m+\u001b[0m \u001b[0mname\u001b[0m \u001b[0;32mif\u001b[0m \u001b[0mname\u001b[0m \u001b[0;32mis\u001b[0m \u001b[0;32mnot\u001b[0m \u001b[0;32mNone\u001b[0m \u001b[0;32melse\u001b[0m \u001b[0;34m\"\"\u001b[0m\u001b[0;34m)\u001b[0m\u001b[0;34m\u001b[0m\u001b[0;34m\u001b[0m\u001b[0m\n\u001b[1;32m   6652\u001b[0m   \u001b[0;31m# pylint: disable=protected-access\u001b[0m\u001b[0;34m\u001b[0m\u001b[0;34m\u001b[0m\u001b[0;34m\u001b[0m\u001b[0m\n\u001b[0;32m-> 6653\u001b[0;31m   \u001b[0msix\u001b[0m\u001b[0;34m.\u001b[0m\u001b[0mraise_from\u001b[0m\u001b[0;34m(\u001b[0m\u001b[0mcore\u001b[0m\u001b[0;34m.\u001b[0m\u001b[0m_status_to_exception\u001b[0m\u001b[0;34m(\u001b[0m\u001b[0me\u001b[0m\u001b[0;34m.\u001b[0m\u001b[0mcode\u001b[0m\u001b[0;34m,\u001b[0m \u001b[0mmessage\u001b[0m\u001b[0;34m)\u001b[0m\u001b[0;34m,\u001b[0m \u001b[0;32mNone\u001b[0m\u001b[0;34m)\u001b[0m\u001b[0;34m\u001b[0m\u001b[0;34m\u001b[0m\u001b[0m\n\u001b[0m\u001b[1;32m   6654\u001b[0m   \u001b[0;31m# pylint: enable=protected-access\u001b[0m\u001b[0;34m\u001b[0m\u001b[0;34m\u001b[0m\u001b[0;34m\u001b[0m\u001b[0m\n\u001b[1;32m   6655\u001b[0m \u001b[0;34m\u001b[0m\u001b[0m\n",
            "\u001b[0;32m/usr/local/lib/python3.6/dist-packages/six.py\u001b[0m in \u001b[0;36mraise_from\u001b[0;34m(value, from_value)\u001b[0m\n",
            "\u001b[0;31mInvalidArgumentError\u001b[0m: Incompatible shapes: [48000] vs. [37632000] [Op:Sub]"
          ]
        }
      ]
    },
    {
      "cell_type": "code",
      "metadata": {
        "id": "Tbp296I9AB81",
        "colab_type": "code",
        "colab": {
          "base_uri": "https://localhost:8080/",
          "height": 386
        },
        "outputId": "944ee025-5c39-4d5c-a665-b6f8bb04ae86"
      },
      "source": [
        "# 케라스 사용\n",
        "model = tf.keras.models.Sequential()\n",
        "model.add(tf.keras.layers.Dense(1))\n",
        "model.compile(optimizer='sgd', loss='mse')\n",
        "model.fit(x_train, y_train, epochs=10)"
      ],
      "execution_count": 29,
      "outputs": [
        {
          "output_type": "stream",
          "text": [
            "Epoch 1/10\n",
            "1500/1500 [==============================] - 1s 960us/step - loss: nan\n",
            "Epoch 2/10\n",
            "1500/1500 [==============================] - 1s 955us/step - loss: nan\n",
            "Epoch 3/10\n",
            "1500/1500 [==============================] - 1s 957us/step - loss: nan\n",
            "Epoch 4/10\n",
            "1500/1500 [==============================] - 1s 975us/step - loss: nan\n",
            "Epoch 5/10\n",
            "1500/1500 [==============================] - 1s 956us/step - loss: nan\n",
            "Epoch 6/10\n",
            "1500/1500 [==============================] - 1s 957us/step - loss: nan\n",
            "Epoch 7/10\n",
            "1500/1500 [==============================] - 1s 971us/step - loss: nan\n",
            "Epoch 8/10\n",
            "1500/1500 [==============================] - 1s 963us/step - loss: nan\n",
            "Epoch 9/10\n",
            "1500/1500 [==============================] - 1s 957us/step - loss: nan\n",
            "Epoch 10/10\n",
            "1500/1500 [==============================] - 1s 953us/step - loss: nan\n"
          ],
          "name": "stdout"
        },
        {
          "output_type": "execute_result",
          "data": {
            "text/plain": [
              "<tensorflow.python.keras.callbacks.History at 0x7f5ef80bd0f0>"
            ]
          },
          "metadata": {
            "tags": []
          },
          "execution_count": 29
        }
      ]
    },
    {
      "cell_type": "code",
      "metadata": {
        "id": "u7szSSvFAZ9o",
        "colab_type": "code",
        "colab": {}
      },
      "source": [
        ""
      ],
      "execution_count": 0,
      "outputs": []
    }
  ]
}