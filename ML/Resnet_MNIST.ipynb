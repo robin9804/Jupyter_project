{
  "nbformat": 4,
  "nbformat_minor": 0,
  "metadata": {
    "colab": {
      "name": "Resnet MNIST.ipynb",
      "provenance": []
    },
    "kernelspec": {
      "name": "python3",
      "display_name": "Python 3"
    },
    "accelerator": "TPU"
  },
  "cells": [
    {
      "cell_type": "code",
      "metadata": {
        "id": "1CsO9VT74WqT",
        "colab_type": "code",
        "colab": {}
      },
      "source": [
        "import tensorflow as tf\n",
        "import numpy as np\n",
        "import matplotlib.pyplot as plt"
      ],
      "execution_count": 2,
      "outputs": []
    },
    {
      "cell_type": "markdown",
      "metadata": {
        "id": "Qe8ktXfE4mHB",
        "colab_type": "text"
      },
      "source": [
        "# Tensorflow를 임포트하고 데이터셋 전처리"
      ]
    },
    {
      "cell_type": "code",
      "metadata": {
        "id": "MX-z2ODi4ked",
        "colab_type": "code",
        "colab": {
          "base_uri": "https://localhost:8080/",
          "height": 72
        },
        "outputId": "a3fa30c1-d5a1-43d0-91a4-6b81eff374f2"
      },
      "source": [
        "# 데이터 로드\n",
        "(train_img, train_labels), (test_img, test_labels) = tf.keras.datasets.mnist.load_data()\n",
        "# 데이터의 리쉐잎\n",
        "train_img = train_img.reshape((60000, 28, 28,1))    # 6만개 샘플, 28 x 28 크기, mono8\n",
        "test_img = test_img.reshape((10000, 28,28,1))       # test 셋은 1만개 \n",
        "# 픽셀 값을 0과 1사이로 정규화\n",
        "train_img, test_img = train_img / 255.0, test_img / 255.0"
      ],
      "execution_count": 3,
      "outputs": [
        {
          "output_type": "stream",
          "text": [
            "Downloading data from https://storage.googleapis.com/tensorflow/tf-keras-datasets/mnist.npz\n",
            "11493376/11490434 [==============================] - 0s 0us/step\n"
          ],
          "name": "stdout"
        }
      ]
    },
    {
      "cell_type": "code",
      "metadata": {
        "id": "-uF_vr-I6X-Q",
        "colab_type": "code",
        "colab": {
          "base_uri": "https://localhost:8080/",
          "height": 34
        },
        "outputId": "640a88b7-a515-4fb0-ed0d-c90dcca70cb6"
      },
      "source": [
        "print(test_img.shape)"
      ],
      "execution_count": 4,
      "outputs": [
        {
          "output_type": "stream",
          "text": [
            "(10000, 28, 28, 1)\n"
          ],
          "name": "stdout"
        }
      ]
    },
    {
      "cell_type": "markdown",
      "metadata": {
        "id": "_sSYka__5lHP",
        "colab_type": "text"
      },
      "source": [
        "# Resnet 구성하기"
      ]
    },
    {
      "cell_type": "code",
      "metadata": {
        "id": "vvAxuAIR5kr9",
        "colab_type": "code",
        "colab": {
          "base_uri": "https://localhost:8080/",
          "height": 386
        },
        "outputId": "53bb3355-3594-4430-983b-68c520d2fc04"
      },
      "source": [
        "def resnet(x):\n",
        "    inputs = x\n",
        "    x = tf.keras.layers.Conv2D(64, 3, padding='same', activation='relu')(x)\n",
        "    x = tf.keras.layers.Conv2D(64, 3, padding='same', activation=None)(x)\n",
        "    return x + inputs\n",
        "\n",
        "input_tensor = tf.keras.Input(shape=(28,28,1), dtype='float32', name='Resnet')\n",
        "x = resnet(input_tensor)\n",
        "x = tf.keras.layers.GlobalAveragePooling2D()(x)\n",
        "res34 = tf.keras.layers.Dense(10, activation='softmax')(x)\n",
        "\n",
        "model = tf.keras.Model(input_tensor, res34)\n",
        "model.summary()"
      ],
      "execution_count": 5,
      "outputs": [
        {
          "output_type": "stream",
          "text": [
            "Model: \"model\"\n",
            "__________________________________________________________________________________________________\n",
            "Layer (type)                    Output Shape         Param #     Connected to                     \n",
            "==================================================================================================\n",
            "Resnet (InputLayer)             [(None, 28, 28, 1)]  0                                            \n",
            "__________________________________________________________________________________________________\n",
            "conv2d (Conv2D)                 (None, 28, 28, 64)   640         Resnet[0][0]                     \n",
            "__________________________________________________________________________________________________\n",
            "conv2d_1 (Conv2D)               (None, 28, 28, 64)   36928       conv2d[0][0]                     \n",
            "__________________________________________________________________________________________________\n",
            "tf_op_layer_AddV2 (TensorFlowOp [(None, 28, 28, 64)] 0           conv2d_1[0][0]                   \n",
            "                                                                 Resnet[0][0]                     \n",
            "__________________________________________________________________________________________________\n",
            "global_average_pooling2d (Globa (None, 64)           0           tf_op_layer_AddV2[0][0]          \n",
            "__________________________________________________________________________________________________\n",
            "dense (Dense)                   (None, 10)           650         global_average_pooling2d[0][0]   \n",
            "==================================================================================================\n",
            "Total params: 38,218\n",
            "Trainable params: 38,218\n",
            "Non-trainable params: 0\n",
            "__________________________________________________________________________________________________\n"
          ],
          "name": "stdout"
        }
      ]
    },
    {
      "cell_type": "code",
      "metadata": {
        "id": "sucB6NP15ew6",
        "colab_type": "code",
        "colab": {
          "base_uri": "https://localhost:8080/",
          "height": 369
        },
        "outputId": "0288c680-8523-4103-d680-e2414365e0f1"
      },
      "source": [
        "# 모델 컴파일 하기\n",
        "model.compile(optimizer='adam', loss='mean_squared_error', metrics=['accuracy'] )\n",
        "his = model.fit(train_img, train_labels, epochs=10)"
      ],
      "execution_count": null,
      "outputs": [
        {
          "output_type": "stream",
          "text": [
            "Epoch 1/10\n",
            "1875/1875 [==============================] - 285s 152ms/step - loss: 27.3046 - accuracy: 0.1159\n",
            "Epoch 2/10\n",
            "1875/1875 [==============================] - 285s 152ms/step - loss: 27.3045 - accuracy: 0.1140\n",
            "Epoch 3/10\n",
            "1875/1875 [==============================] - 289s 154ms/step - loss: 27.3046 - accuracy: 0.1117\n",
            "Epoch 4/10\n",
            "1875/1875 [==============================] - 285s 152ms/step - loss: 27.3046 - accuracy: 0.1116\n",
            "Epoch 5/10\n",
            "1875/1875 [==============================] - 290s 155ms/step - loss: 27.3046 - accuracy: 0.1099\n",
            "Epoch 6/10\n",
            "1875/1875 [==============================] - 285s 152ms/step - loss: 27.3046 - accuracy: 0.1098\n",
            "Epoch 7/10\n",
            "1875/1875 [==============================] - 284s 151ms/step - loss: 27.3046 - accuracy: 0.1078\n",
            "Epoch 8/10\n",
            "1875/1875 [==============================] - 285s 152ms/step - loss: 27.3046 - accuracy: 0.1078\n",
            "Epoch 9/10\n",
            "1875/1875 [==============================] - 284s 151ms/step - loss: 27.3046 - accuracy: 0.1093\n",
            "Epoch 10/10\n",
            " 550/1875 [=======>......................] - ETA: 3:19 - loss: 27.2205 - accuracy: 0.1110"
          ],
          "name": "stdout"
        }
      ]
    },
    {
      "cell_type": "code",
      "metadata": {
        "id": "MZT38wZe9n3C",
        "colab_type": "code",
        "colab": {}
      },
      "source": [
        "plt.plot(his.history['loss'])\n",
        "plt.plot(his.history['val_loss'])"
      ],
      "execution_count": null,
      "outputs": []
    },
    {
      "cell_type": "code",
      "metadata": {
        "id": "nqvO62dgC_7h",
        "colab_type": "code",
        "colab": {}
      },
      "source": [
        ""
      ],
      "execution_count": null,
      "outputs": []
    }
  ]
}