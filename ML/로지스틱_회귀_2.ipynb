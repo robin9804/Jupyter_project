{
  "nbformat": 4,
  "nbformat_minor": 0,
  "metadata": {
    "colab": {
      "name": "로지스틱 회귀-2.ipynb",
      "provenance": [],
      "collapsed_sections": []
    },
    "kernelspec": {
      "name": "python3",
      "display_name": "Python 3"
    }
  },
  "cells": [
    {
      "cell_type": "code",
      "metadata": {
        "id": "lwkcv8rVjkAm",
        "colab_type": "code",
        "colab": {}
      },
      "source": [
        "from sklearn.datasets import load_breast_cancer  # 데이터셋 로드\n",
        "from sklearn.model_selection import train_test_split  # 훈련셋이랑 검증셋 분리"
      ],
      "execution_count": 0,
      "outputs": []
    },
    {
      "cell_type": "code",
      "metadata": {
        "id": "vS6zTYxjj499",
        "colab_type": "code",
        "colab": {}
      },
      "source": [
        "cancer = load_breast_cancer()\n",
        "x = cancer.data\n",
        "y = cancer.target\n",
        "# 데이터 분할\n",
        "x_train_all, x_test, y_train_all, y_test = train_test_split(x,y, stratify=y, test_size=0.2, random_state=42)"
      ],
      "execution_count": 0,
      "outputs": []
    },
    {
      "cell_type": "code",
      "metadata": {
        "id": "WjLk0h61kUaS",
        "colab_type": "code",
        "colab": {
          "base_uri": "https://localhost:8080/",
          "height": 34
        },
        "outputId": "9af54cb8-bff7-41d6-e771-43445ebd0ba8"
      },
      "source": [
        "x_train , x_val, y_train, y_val = train_test_split(x_train_all, y_train_all, stratify=y_train_all, test_size=0.2, random_state=42)\n",
        "print(len(x_train), len(x_val))  # val : validation set"
      ],
      "execution_count": 5,
      "outputs": [
        {
          "output_type": "stream",
          "text": [
            "364 91\n"
          ],
          "name": "stdout"
        }
      ]
    },
    {
      "cell_type": "code",
      "metadata": {
        "id": "Ab1J9e6jk0T7",
        "colab_type": "code",
        "colab": {
          "base_uri": "https://localhost:8080/",
          "height": 34
        },
        "outputId": "0e729987-72bd-41ed-cec3-6789a3e7df86"
      },
      "source": [
        "from sklearn.linear_model import SGDClassifier\n",
        "\n",
        "# 검증 세트 사용해 모델 평가하기\n",
        "sgd = SGDClassifier(loss='log', random_state=42)\n",
        "sgd.fit(x_train, y_train)\n",
        "sgd.score(x_val, y_val)"
      ],
      "execution_count": 7,
      "outputs": [
        {
          "output_type": "execute_result",
          "data": {
            "text/plain": [
              "0.6923076923076923"
            ]
          },
          "metadata": {
            "tags": []
          },
          "execution_count": 7
        }
      ]
    },
    {
      "cell_type": "markdown",
      "metadata": {
        "id": "FRGEQUnyliVL",
        "colab_type": "text"
      },
      "source": [
        "데이터의 스케일? \n",
        "\n",
        "특성이 가지고 있는 값의 범위를 말함. 특성의 스케일을 전처리 하는 것을 스케일을 조정한다는 표현으로 사용."
      ]
    },
    {
      "cell_type": "code",
      "metadata": {
        "id": "jvrzZShVlhjW",
        "colab_type": "code",
        "colab": {}
      },
      "source": [
        "import numpy as np\n",
        "import matplotlib.pyplot as plt"
      ],
      "execution_count": 0,
      "outputs": []
    },
    {
      "cell_type": "code",
      "metadata": {
        "id": "SRMEgR3SlHR3",
        "colab_type": "code",
        "colab": {
          "base_uri": "https://localhost:8080/",
          "height": 282
        },
        "outputId": "7aa6f343-4912-453a-fb84-15ae43f46649"
      },
      "source": [
        "print(cancer.feature_names[[2,3]])\n",
        "# 박스플롯\n",
        "plt.boxplot(x_train[:, 2:4])  # 2에서 4행의 모든 열\n",
        "plt.show()"
      ],
      "execution_count": 9,
      "outputs": [
        {
          "output_type": "stream",
          "text": [
            "['mean perimeter' 'mean area']\n"
          ],
          "name": "stdout"
        },
        {
          "output_type": "display_data",
          "data": {
            "image/png": "[encoded data removed]",
            "text/plain": [
              "<Figure size 432x288 with 1 Axes>"
            ]
          },
          "metadata": {
            "tags": [],
            "needs_background": "light"
          }
        }
      ]
    },
    {
      "cell_type": "markdown",
      "metadata": {
        "id": "ahSHSqSpmKTH",
        "colab_type": "text"
      },
      "source": [
        "두 특성의 스케일은 차이가 크다(100 ~ 200 과 200 ~ 2,000)"
      ]
    },
    {
      "cell_type": "code",
      "metadata": {
        "id": "myfLOXbnmB4P",
        "colab_type": "code",
        "colab": {}
      },
      "source": [
        "class SingleLayer:\n",
        "    def __init__(self, learning_rate=0.1):\n",
        "        self.w = None  # weight 가중치\n",
        "        self.b = None  # bias 바이어스\n",
        "        self.losses = []  # 손실을 누적\n",
        "        self.w_history = []  # 가중치 변화 누적하는 리스트\n",
        "        self.lr = learning_rate  # 학습률(hyperparameter)\n",
        "\n",
        "    def forpass(self, x):\n",
        "        # 정방향 진행\n",
        "        z = np.sum(x * self.w) + self.b\n",
        "        return z\n",
        "\n",
        "    def backprop(self, x, error):\n",
        "        # 역방향 진행\n",
        "        w_g = x * error\n",
        "        b_g = 1 * error\n",
        "        return w_g, b_g\n",
        "\n",
        "    def add_bias(self, x):\n",
        "        # 1로 채워진 열백터를 추가하는. \n",
        "        return np.c_[np.ones((x.shape[0], 1)), x]\n",
        "\n",
        "    def activation(self, z):\n",
        "        # 활성화 함수\n",
        "        a = 1 / (1 + np.exp(-z))\n",
        "        return a \n",
        "\n",
        "    def fit(self, x, y, epochs=100):\n",
        "        # 가중치랑 바이어스를 초기화\n",
        "        self.w = np.ones(x.shape[1])\n",
        "        self.b = 0\n",
        "        self.w_history.append(self.w.copy())  # 가중치를 복사해서 기록(numpy 배열은 복사해서 넣어줘야 함)\n",
        "\n",
        "        np.random.seed(42)  # 무작위로 시드 지정\n",
        "        for i in range(epochs):\n",
        "            loss = 0\n",
        "            # 인덱스 섞기\n",
        "            indexs = np.random.permutation(np.arange(len(x)))\n",
        "            for j in indexs:\n",
        "                z = self.forpass(x[j])  # 정방향 계산\n",
        "                a = self.activation(z)  # 활성화 함수 적용\n",
        "                err = -(y[j] - a)  # 오차 계산\n",
        "                w_grad, b_grad = self.backprop(x[j], err)  # 역방향 계산\n",
        "                self.w -= self.lr * w_grad  # 학습률을 곱해서 가중치 업데이트\n",
        "                self.b -= b_grad\n",
        "                self.w_history.append(self.w.copy())  # 가중치 기록\n",
        "                a = np.clip(a, 1e-10, 1-1e-10)  # 로그 계산을 위한 클리핑\n",
        "                loss += -(y[j]*np.log(a) * (1-y[j])*np.log(1-a))\n",
        "            self.losses.append(loss/len(y))  # 평균 손실 저장\n",
        "\n",
        "    def predict(self, x):\n",
        "        z = [self.forpass(x_i) for x_i in x]\n",
        "        return np.array(z) > 0\n",
        "\n",
        "    def score(self, x, y):\n",
        "        return np.mean(self.predict(x)==y)"
      ],
      "execution_count": 0,
      "outputs": []
    },
    {
      "cell_type": "code",
      "metadata": {
        "id": "Yw7ZcnAAqPQK",
        "colab_type": "code",
        "colab": {
          "base_uri": "https://localhost:8080/",
          "height": 52
        },
        "outputId": "a21f6159-9086-401c-f90d-da8b3b16f01e"
      },
      "source": [
        "layer1 = SingleLayer()\n",
        "layer1.fit(x_train, y_train)\n",
        "layer1.score(x_val, y_val)"
      ],
      "execution_count": 13,
      "outputs": [
        {
          "output_type": "stream",
          "text": [
            "/usr/local/lib/python3.6/dist-packages/ipykernel_launcher.py:26: RuntimeWarning: overflow encountered in exp\n"
          ],
          "name": "stderr"
        },
        {
          "output_type": "execute_result",
          "data": {
            "text/plain": [
              "0.9120879120879121"
            ]
          },
          "metadata": {
            "tags": []
          },
          "execution_count": 13
        }
      ]
    },
    {
      "cell_type": "markdown",
      "metadata": {
        "id": "8RjxkL7iqizd",
        "colab_type": "text"
      },
      "source": [
        "스케일을 조정하지 않은 훈련세트를 사용한 모델 훈련 : 91 퍼센트"
      ]
    },
    {
      "cell_type": "code",
      "metadata": {
        "id": "X7d9vqrYqbSz",
        "colab_type": "code",
        "colab": {
          "base_uri": "https://localhost:8080/",
          "height": 282
        },
        "outputId": "b442e798-e238-4090-808d-224bcca2903c"
      },
      "source": [
        "w2 = []  # mean perimeter 특성에 대한 가중치\n",
        "w3 = []  # mean area 특성에 대한 가중치\n",
        "for w in layer1.w_history:\n",
        "    w2.append(w[2])\n",
        "    w3.append(w[3])\n",
        "\n",
        "plt.plot(w2, w3)\n",
        "plt.plot(w2[-1], w3[-1])"
      ],
      "execution_count": 15,
      "outputs": [
        {
          "output_type": "execute_result",
          "data": {
            "text/plain": [
              "[<matplotlib.lines.Line2D at 0x7f7384d20710>]"
            ]
          },
          "metadata": {
            "tags": []
          },
          "execution_count": 15
        },
        {
          "output_type": "display_data",
          "data": {
            "image/png": "[encoded data removed]",
            "text/plain": [
              "<Figure size 432x288 with 1 Axes>"
            ]
          },
          "metadata": {
            "tags": [],
            "needs_background": "light"
          }
        }
      ]
    },
    {
      "cell_type": "markdown",
      "metadata": {
        "id": "a8FAXgx5rhwJ",
        "colab_type": "text"
      },
      "source": [
        "### 스케일 조정하는 방법?\n",
        "\n",
        "표준화\n",
        " z = (x-u)/s"
      ]
    },
    {
      "cell_type": "code",
      "metadata": {
        "id": "fw2NiXUDrIDT",
        "colab_type": "code",
        "colab": {}
      },
      "source": [
        "# 표준화 구현하기, axis를 0으로 지정하면 2차원 배열의 열을 기준으로 통계치 계산 후 하나의 행 벡터로 반환. \n",
        "train_mean = np.mean(x_train, axis=0)\n",
        "train_sta = np.std(x_train, axis=0)  # standard diviation\n",
        "x_train_scaled = (x_train - train_mean) / train_sta"
      ],
      "execution_count": 0,
      "outputs": []
    },
    {
      "cell_type": "code",
      "metadata": {
        "id": "ZmPGNzxUtX5N",
        "colab_type": "code",
        "colab": {
          "base_uri": "https://localhost:8080/",
          "height": 282
        },
        "outputId": "c17213e8-4ae0-411d-ac22-be7df9f6ed5a"
      },
      "source": [
        "# 표준화된 데이터셋으로 모델 훈련하기 \n",
        "ly2 = SingleLayer()\n",
        "ly2.fit(x_train_scaled, y_train)\n",
        "w2 = []\n",
        "w3 = []\n",
        "for w in ly2.w_history: # 다시 가중치 계산\n",
        "    w2.append(w[2])\n",
        "    w3.append(w[3])\n",
        "plt.plot(w2, w3)\n",
        "plt.plot(w2[-1], w3[-1],'ro') # 빨간점이 최종!"
      ],
      "execution_count": 24,
      "outputs": [
        {
          "output_type": "execute_result",
          "data": {
            "text/plain": [
              "[<matplotlib.lines.Line2D at 0x7f73842d25c0>]"
            ]
          },
          "metadata": {
            "tags": []
          },
          "execution_count": 24
        },
        {
          "output_type": "display_data",
          "data": {
            "image/png": "[encoded data removed]",
            "text/plain": [
              "<Figure size 432x288 with 1 Axes>"
            ]
          },
          "metadata": {
            "tags": [],
            "needs_background": "light"
          }
        }
      ]
    },
    {
      "cell_type": "markdown",
      "metadata": {
        "id": "BeyDiq6hufBJ",
        "colab_type": "text"
      },
      "source": [
        "w2와 w3의 변화 비율이 비슷 > 대각선 방향으로 가중치가 이동됨. "
      ]
    },
    {
      "cell_type": "code",
      "metadata": {
        "id": "BeU5Slaet-6R",
        "colab_type": "code",
        "colab": {
          "base_uri": "https://localhost:8080/",
          "height": 34
        },
        "outputId": "4622e301-0060-461d-e44b-8073f8bdb628"
      },
      "source": [
        "ly2.score(x_val, y_val)"
      ],
      "execution_count": 22,
      "outputs": [
        {
          "output_type": "execute_result",
          "data": {
            "text/plain": [
              "0.37362637362637363"
            ]
          },
          "metadata": {
            "tags": []
          },
          "execution_count": 22
        }
      ]
    },
    {
      "cell_type": "markdown",
      "metadata": {
        "id": "zEsBhaqyvmmz",
        "colab_type": "text"
      },
      "source": [
        "검증세트의 표준화를 거치지 않음"
      ]
    },
    {
      "cell_type": "code",
      "metadata": {
        "id": "VL_FUd3QvhZT",
        "colab_type": "code",
        "colab": {
          "base_uri": "https://localhost:8080/",
          "height": 34
        },
        "outputId": "0bfbbf89-6bb9-40fa-df09-8c47abd08416"
      },
      "source": [
        "val_mean = np.mean(x_val, axis=0)\n",
        "val_std = np.std(x_val, axis=0)\n",
        "x_val_scaled = (x_val - val_mean) / val_std\n",
        "# 검증세트의 표준화 완료!\n",
        "ly2.score(x_val_scaled, y_val)"
      ],
      "execution_count": 23,
      "outputs": [
        {
          "output_type": "execute_result",
          "data": {
            "text/plain": [
              "0.967032967032967"
            ]
          },
          "metadata": {
            "tags": []
          },
          "execution_count": 23
        }
      ]
    },
    {
      "cell_type": "code",
      "metadata": {
        "id": "0otykX7jv_U4",
        "colab_type": "code",
        "colab": {
          "base_uri": "https://localhost:8080/",
          "height": 282
        },
        "outputId": "a0d366af-8e1c-4eb2-f29d-cc178292d85e"
      },
      "source": [
        "# 원본 훈련셋과 검증셋을 비교해보기\n",
        "plt.plot(x_train[:50, 0], x_train[:50, 1], 'bo')  # 훈련셋\n",
        "plt.plot(x_val[:50, 0], x_val[:50, 1],'ro')  # 검증셋\n",
        "plt.legend(['train', 'val'])"
      ],
      "execution_count": 25,
      "outputs": [
        {
          "output_type": "execute_result",
          "data": {
            "text/plain": [
              "<matplotlib.legend.Legend at 0x7f73841c78d0>"
            ]
          },
          "metadata": {
            "tags": []
          },
          "execution_count": 25
        },
        {
          "output_type": "display_data",
          "data": {
            "image/png": "[encoded data removed]",
            "text/plain": [
              "<Figure size 432x288 with 1 Axes>"
            ]
          },
          "metadata": {
            "tags": [],
            "needs_background": "light"
          }
        }
      ]
    },
    {
      "cell_type": "code",
      "metadata": {
        "id": "DFPVMu5XwwFx",
        "colab_type": "code",
        "colab": {
          "base_uri": "https://localhost:8080/",
          "height": 282
        },
        "outputId": "0f42145c-a277-4626-be95-53c5ae4aaf7c"
      },
      "source": [
        "# 전처리된 훈련셋과 검증셋을 비교해보기\n",
        "plt.plot(x_train_scaled[:50, 0], x_train_scaled[:50,1],'bo')\n",
        "plt.plot(x_val_scaled[:50, 0], x_val_scaled[:50,1], 'ro')\n",
        "plt.legend(['train', 'val'])"
      ],
      "execution_count": 28,
      "outputs": [
        {
          "output_type": "execute_result",
          "data": {
            "text/plain": [
              "<matplotlib.legend.Legend at 0x7f73840c3278>"
            ]
          },
          "metadata": {
            "tags": []
          },
          "execution_count": 28
        },
        {
          "output_type": "display_data",
          "data": {
            "image/png": "[encoded data removed]",
            "text/plain": [
              "<Figure size 432x288 with 1 Axes>"
            ]
          },
          "metadata": {
            "tags": [],
            "needs_background": "light"
          }
        }
      ]
    },
    {
      "cell_type": "markdown",
      "metadata": {
        "id": "yhzFDDH2x4IL",
        "colab_type": "text"
      },
      "source": [
        "데이터 전처리를 제대로 하기?\n",
        "\n",
        "훈련세트의 표준편차로 검증셋을 전차리 하기!"
      ]
    },
    {
      "cell_type": "code",
      "metadata": {
        "id": "bqmGF9eoxkC_",
        "colab_type": "code",
        "colab": {
          "base_uri": "https://localhost:8080/",
          "height": 282
        },
        "outputId": "fd903fc7-828f-4ff1-c88b-b91049cbae62"
      },
      "source": [
        "# 훈련세트의 평균과 표준편차로 검증셋을 전처리 했다\n",
        "x_val_scaled = (x_val - train_mean) / train_sta\n",
        "plt.plot(x_train_scaled[:50, 0], x_train_scaled[:50,1],'bo')\n",
        "plt.plot(x_val_scaled[:50, 0], x_val_scaled[:50,1], 'ro')\n",
        "plt.legend(['train', 'val'])"
      ],
      "execution_count": 30,
      "outputs": [
        {
          "output_type": "execute_result",
          "data": {
            "text/plain": [
              "<matplotlib.legend.Legend at 0x7f7384052358>"
            ]
          },
          "metadata": {
            "tags": []
          },
          "execution_count": 30
        },
        {
          "output_type": "display_data",
          "data": {
            "image/png": "[encoded data removed]",
            "text/plain": [
              "<Figure size 432x288 with 1 Axes>"
            ]
          },
          "metadata": {
            "tags": [],
            "needs_background": "light"
          }
        }
      ]
    },
    {
      "cell_type": "code",
      "metadata": {
        "id": "Vx1YoujMyEyY",
        "colab_type": "code",
        "colab": {
          "base_uri": "https://localhost:8080/",
          "height": 34
        },
        "outputId": "cf156b0e-124f-40f1-a0a7-3db6a6752f98"
      },
      "source": [
        "ly2.score(x_val_scaled, y_val)"
      ],
      "execution_count": 31,
      "outputs": [
        {
          "output_type": "execute_result",
          "data": {
            "text/plain": [
              "0.967032967032967"
            ]
          },
          "metadata": {
            "tags": []
          },
          "execution_count": 31
        }
      ]
    },
    {
      "cell_type": "markdown",
      "metadata": {
        "id": "lgMS3xjYyajo",
        "colab_type": "text"
      },
      "source": [
        "# 과대적합? 과소적합??\n"
      ]
    },
    {
      "cell_type": "code",
      "metadata": {
        "id": "Sv6cu57KyWcs",
        "colab_type": "code",
        "colab": {}
      },
      "source": [
        ""
      ],
      "execution_count": 0,
      "outputs": []
    }
  ]
}