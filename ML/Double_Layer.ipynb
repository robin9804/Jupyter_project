{
  "nbformat": 4,
  "nbformat_minor": 0,
  "metadata": {
    "colab": {
      "name": "Double Layer.ipynb",
      "provenance": [],
      "collapsed_sections": []
    },
    "kernelspec": {
      "name": "python3",
      "display_name": "Python 3"
    }
  },
  "cells": [
    {
      "cell_type": "code",
      "metadata": {
        "id": "jB6gJ_5gS2B1",
        "colab_type": "code",
        "outputId": "7e6b438b-0052-43ad-bb55-16d9205aa0f5",
        "colab": {
          "base_uri": "https://localhost:8080/",
          "height": 34
        }
      },
      "source": [
        "from sklearn.datasets import load_breast_cancer  # 데이터셋 로드\n",
        "from sklearn.model_selection import train_test_split  # 훈련셋이랑 검증셋 분리\n",
        "\n",
        "cancer = load_breast_cancer()\n",
        "x = cancer.data\n",
        "y = cancer.target\n",
        "# 데이터 분할\n",
        "x_train_all, x_test, y_train_all, y_test = train_test_split(x,y, stratify=y, test_size=0.2, random_state=42)\n",
        "\n",
        "# 트레인 셋이랑 데이터 셋을 다시 차례로 분리하기\n",
        "x_train , x_val, y_train, y_val = train_test_split(x_train_all, y_train_all, stratify=y_train_all, test_size=0.2, random_state=42)\n",
        "print(len(x_train), len(x_val))  # val : validation set\n"
      ],
      "execution_count": 1,
      "outputs": [
        {
          "output_type": "stream",
          "text": [
            "364 91\n"
          ],
          "name": "stdout"
        }
      ]
    },
    {
      "cell_type": "code",
      "metadata": {
        "id": "RKb8g_UITGlC",
        "colab_type": "code",
        "outputId": "5e3b5bfa-0d2a-4857-caa0-cf40baf5faf0",
        "colab": {
          "base_uri": "https://localhost:8080/",
          "height": 34
        }
      },
      "source": [
        "print(x_train.shape,x_val.shape)"
      ],
      "execution_count": 2,
      "outputs": [
        {
          "output_type": "stream",
          "text": [
            "(364, 30) (91, 30)\n"
          ],
          "name": "stdout"
        }
      ]
    },
    {
      "cell_type": "markdown",
      "metadata": {
        "id": "v8PpKfQATbNK",
        "colab_type": "text"
      },
      "source": [
        "# 정방향 계산을 행렬 곱셈으로 표현하기\n",
        "\n",
        "dot을 사용해서 행렬곱셈을 할 수 있다."
      ]
    },
    {
      "cell_type": "code",
      "metadata": {
        "id": "hWxCvv1OTWUA",
        "colab_type": "code",
        "colab": {}
      },
      "source": [
        "from sklearn.linear_model import SGDClassifier\n",
        "import numpy as np\n",
        "import matplotlib.pyplot as plt"
      ],
      "execution_count": 0,
      "outputs": []
    },
    {
      "cell_type": "code",
      "metadata": {
        "id": "wSuNYXukTvWq",
        "colab_type": "code",
        "colab": {}
      },
      "source": [
        "class SingleLayer_l1l2:\n",
        "    def __init__(self, learning_rate=0.1, l1=0, l2=0):\n",
        "        self.w = None  # weight 가중치\n",
        "        self.b = None  # bias 바이어스\n",
        "        self.losses = []  # 손실을 누적\n",
        "        self.val_losses = [] # 검증 셋에 대한 손실을 기록\n",
        "        self.w_history = []  # 가중치 변화 누적하는 리스트\n",
        "        self.lr = learning_rate  # 학습률(hyperparameter)\n",
        "        self.l1 = l1\n",
        "        self.l2 = l2\n",
        "\n",
        "    def forpass(self, x):\n",
        "        # 정방향 진행에 행렬곱 사용\n",
        "        z = np.dot(x, self.w) + self.b\n",
        "        return z\n",
        "\n",
        "    def backprop(self, x, error):\n",
        "        # 역방향 진행에 전치행렬곱을 적용\n",
        "        w_g = np.dot(x.T, error) / len(x)  #평균 그레이디언트라서!\n",
        "        b_g = np.sum(error) / len(x)\n",
        "        return w_g, b_g\n",
        "\n",
        "    def add_bias(self, x):\n",
        "        # 1로 채워진 열백터를 추가하는. \n",
        "        return np.c_[np.ones((x.shape[0], 1)), x]\n",
        "\n",
        "    def activation(self, z):\n",
        "        # 활성화 함수\n",
        "        a = 1 / (1 + np.exp(-z))\n",
        "        return a \n",
        "\n",
        "    def fit(self, x, y, epochs=100, x_val=None, y_val=None):\n",
        "        # 전체 샘플을 한 번에 계산하기 때문에 약간의 수정이 가해진다\n",
        "        # 가중치랑 바이어스를 초기화\n",
        "        y = y.reshape(-1,1)  # 타깃을 열백터로 바꾼다 (1; 1; 1...)\n",
        "        y_val = y_val.reshape(-1,1)  # 검증용 타겟도 열백터로 바꾸기\n",
        "        m = len(x)\n",
        "        self.w = np.ones((x.shape[1],1))  # w, b 초기화\n",
        "        self.b = 0\n",
        "        self.w_history.append(self.w.copy())  # 가중치 기록\n",
        "        for i in range(epochs):\n",
        "            # 에포크만큼 반복\n",
        "            z = self.forpass(x)\n",
        "            a = self.activation(z)\n",
        "            err = -(y -a)  # 오차 계산\n",
        "            w_grad, b_grad = self.backprop(x, err)  # 오차 역전파로 그라디언트 계산 후 빼줘야 한다. \n",
        "            w_grad += (self.l1* np.sign(self.w) + self.l2*self.w) / m  # 페널티의 미분값을 더해준다, 규제\n",
        "            self.w -= self.lr * w_grad  # 가중치와 절편 업데이트\n",
        "            self.b -= self.lr * b_grad\n",
        "            self.w_history.append(self.w.copy())\n",
        "            a = np.clip(a, 1e-10, 1-1e-10)\n",
        "            loss = np.sum(-(y*np.log(a) + (1-y)*np.log(1-a)))\n",
        "            self.losses.append((loss + self.reg_loss()) / m)\n",
        "            self.updata_val_loss(x_val, y_val)\n",
        "\n",
        "    def reg_loss(self):\n",
        "        # 페널티 항에 대한 값을 더해야 한다. (규제 적용)\n",
        "        return self.l1*np.sum(np.abs(self.w)) + self.l2/2 * np.sum(self.w**2)\n",
        "\n",
        "    def updata_val_loss(self, x_val, y_val):\n",
        "        z = self.forpass(x_val)\n",
        "        a = self.activation(z)\n",
        "        a = np.clip(a, 1e-10, 1-1e-10)\n",
        "        val_loss = np.sum(-(y_val*np.log(a) + (1-y_val)*np.log(1-a)))\n",
        "        self.val_losses.append((val_loss + self.reg_loss())/ len(y_val))  # 로그 손실과 규제 손실을 더해서 리스트에 추가\n",
        "\n",
        "    def predict(self, x):\n",
        "        z = self.forpass(x)\n",
        "        return z > 0\n",
        "\n",
        "    def score(self, x, y):\n",
        "        return np.mean(self.predict(x)==y.reshape(-1,1))"
      ],
      "execution_count": 0,
      "outputs": []
    },
    {
      "cell_type": "markdown",
      "metadata": {
        "id": "yEPLzEuOXirU",
        "colab_type": "text"
      },
      "source": [
        "# 훈련 데이터 표준화 전처리하기"
      ]
    },
    {
      "cell_type": "code",
      "metadata": {
        "id": "rOGDfAVxXbc9",
        "colab_type": "code",
        "colab": {}
      },
      "source": [
        "from sklearn.preprocessing import StandardScaler"
      ],
      "execution_count": 0,
      "outputs": []
    },
    {
      "cell_type": "code",
      "metadata": {
        "id": "Zi9qbrnNXqBm",
        "colab_type": "code",
        "colab": {}
      },
      "source": [
        "scaler = StandardScaler()\n",
        "scaler.fit(x_train)  # x train으로 fit하고\n",
        "x_train_scaled = scaler.transform(x_train)  # fit로 구한 표준편차를 x train으로 표준화시키기\n",
        "x_val_scaled = scaler.transform(x_val)"
      ],
      "execution_count": 0,
      "outputs": []
    },
    {
      "cell_type": "code",
      "metadata": {
        "id": "zLmUbJOhX-Nm",
        "colab_type": "code",
        "outputId": "293990e6-f0b3-4d1d-a4fe-1e1e1058dad5",
        "colab": {
          "base_uri": "https://localhost:8080/",
          "height": 34
        }
      },
      "source": [
        "SL = SingleLayer_l1l2(l2 = 0.01)\n",
        "SL.fit(x_train_scaled, y_train, x_val = x_val_scaled, y_val = y_val, epochs= 10000)\n",
        "SL.score(x_val_scaled, y_val)"
      ],
      "execution_count": 7,
      "outputs": [
        {
          "output_type": "execute_result",
          "data": {
            "text/plain": [
              "0.978021978021978"
            ]
          },
          "metadata": {
            "tags": []
          },
          "execution_count": 7
        }
      ]
    },
    {
      "cell_type": "code",
      "metadata": {
        "id": "vXOZnTyDYNov",
        "colab_type": "code",
        "outputId": "b4a5f1ce-4555-470a-cc3b-47363a01c908",
        "colab": {
          "base_uri": "https://localhost:8080/",
          "height": 286
        }
      },
      "source": [
        "plt.ylim(0,0.3)\n",
        "plt.plot(SL.losses)\n",
        "plt.plot(SL.val_losses)"
      ],
      "execution_count": 8,
      "outputs": [
        {
          "output_type": "execute_result",
          "data": {
            "text/plain": [
              "[<matplotlib.lines.Line2D at 0x7fed241221d0>]"
            ]
          },
          "metadata": {
            "tags": []
          },
          "execution_count": 8
        },
        {
          "output_type": "display_data",
          "data": {
            "image/png": "[encoded data removed]",
            "text/plain": [
              "<Figure size 432x288 with 1 Axes>"
            ]
          },
          "metadata": {
            "tags": [],
            "needs_background": "light"
          }
        }
      ]
    },
    {
      "cell_type": "markdown",
      "metadata": {
        "id": "9dnxWqa_aDgM",
        "colab_type": "text"
      },
      "source": [
        "완만하게 떨어지는 것을 볼 수 있다. "
      ]
    },
    {
      "cell_type": "code",
      "metadata": {
        "id": "P3S-mr-5Z3Hv",
        "colab_type": "code",
        "outputId": "edd2e7f6-c991-4e3a-f0ef-886b1e5119ce",
        "colab": {
          "base_uri": "https://localhost:8080/",
          "height": 282
        }
      },
      "source": [
        "w2 = []\n",
        "w3 = []\n",
        "for w in SL.w_history:\n",
        "    w2.append(w[2])\n",
        "    w3.append(w[3])\n",
        "plt.plot(w2, w3)\n",
        "plt.plot(w2[-1], w3[-1], 'ro')  # 저 빨간점. 손실값도 안정적으로 수렴"
      ],
      "execution_count": 9,
      "outputs": [
        {
          "output_type": "execute_result",
          "data": {
            "text/plain": [
              "[<matplotlib.lines.Line2D at 0x7fed24106ba8>]"
            ]
          },
          "metadata": {
            "tags": []
          },
          "execution_count": 9
        },
        {
          "output_type": "display_data",
          "data": {
            "image/png": "[encoded data removed]",
            "text/plain": [
              "<Figure size 432x288 with 1 Axes>"
            ]
          },
          "metadata": {
            "tags": [],
            "needs_background": "light"
          }
        }
      ]
    },
    {
      "cell_type": "markdown",
      "metadata": {
        "id": "PFQsmQ5lu0TC",
        "colab_type": "text"
      },
      "source": [
        "2 개의 층을 가진 신경망 구현"
      ]
    },
    {
      "cell_type": "code",
      "metadata": {
        "id": "M126pwdOaYo4",
        "colab_type": "code",
        "colab": {}
      },
      "source": [
        "class DualLayer(SingleLayer_l1l2):\n",
        "    def __init__(self, units=10, learning_rate=0.1, l1=0, l2=0):\n",
        "        # unit 변수가 추가 (은닉층의 뉴런갯수 )\n",
        "        self.units = units\n",
        "        self.w1 = None\n",
        "        self.b1 = None\n",
        "        self.w2 = None\n",
        "        self.b2 = None\n",
        "        self.a1 = None\n",
        "        self.losses = []\n",
        "        self.val_losses = []\n",
        "        self.lr = learning_rate\n",
        "        self.l1 = l1\n",
        "        self.l2 = l2\n",
        "\n",
        "    def forpass(self, x):\n",
        "        z1 = np.dot(x, self.w1) + self.b1  # 첫 번째 층 \n",
        "        self.a1 = self.activation(z1)\n",
        "        z2 = np.dot(self.a1, self.w2) +self.b2  # 두 번째 층\n",
        "        return z2\n",
        "\n",
        "    def backprop(self, x, error):\n",
        "        m = len(x)  # 샘플 갯수\n",
        "        w2_grad = np.dot(self.a1.T, error) / m   # 출력층의 가중치와 절편에 대한 그레이디언트 계산\n",
        "        b2_grad = np.sum(error) / m\n",
        "        error_to_hidden = np.dot(error, self.w2.T) * self.a1 * (1- self.a1)\n",
        "        w1_grad = np.dot(x.T, error_to_hidden) / m\n",
        "        b1_grad = np.sum(error_to_hidden, axis=0) / m\n",
        "        return w1_grad, b1_grad, w2_grad, b2_grad\n",
        "\n",
        "    # fit 메서드 쪼개기\n",
        "    def init_weight(self, n_feature):\n",
        "        # 변수를 초기화\n",
        "        self.w1 = np.ones((n_feature, self.units))\n",
        "        self.b1 = np.zeros(self.units)\n",
        "        self.w2 = np.ones((self.units, 1))\n",
        "        self.b2 = 0\n",
        "\n",
        "    def fit(self, x, y, epochs=100, x_val=None, y_val=None):\n",
        "        y = y.reshape(-1,1)  # 타겟을 열 벡터로 바꾼다.\n",
        "        y_val=y_val.reshape(-1,1)\n",
        "        m = len(x)\n",
        "        self.init_weight(x.shape[1])  # 은닉층과 출력층의 가중치를 초기화\n",
        "        for i in range(epochs): # 에포크 수 만큼 돌리기\n",
        "            a = self.training(x, y, m)\n",
        "            a = np.clip(a, 1e-10, 1-1e-10)\n",
        "            loss = np.sum(-(y*np.log(a) + (1-y)*np.log(1-a)))\n",
        "            self.losses.append((loss + self.reg_loss()) / m)\n",
        "            self.updata_val_loss(x_val, y_val)\n",
        "\n",
        "    def training(self, x, y, m):\n",
        "        # 훈련하는 메서드\n",
        "        z = self.forpass(x)\n",
        "        a = self.activation(z)\n",
        "        err = -(y - a)\n",
        "        w1_grad, b1_grad, w2_grad, b2_grad = self.backprop(x, err)  # 오차 역전파, 그라디언트 계산\n",
        "        w1_grad += (self.l1*np.sign(self.w1) + self.l2*self.w1)/m\n",
        "        w2_grad += (self.l1*np.sign(self.w2) + self.l2 * self.w2) / m\n",
        "        # 절편 업데이트\n",
        "        self.w1 -= self.lr*w1_grad\n",
        "        self.w2 -= self.lr*w2_grad\n",
        "        self.b1 -= self.lr*b1_grad \n",
        "        self.b2 -= self.lr*b2_grad\n",
        "        return a\n",
        "\n",
        "    def reg_loss(self):\n",
        "        # 규제 적용하기\n",
        "        return self.l1 * (np.sum(np.abs(self.w1)) + np.sum(np.abs(self.w2))) + self.l2 / 2 * (np.sum(self.w1**2) + np.sum(self.w2**2))"
      ],
      "execution_count": 0,
      "outputs": []
    },
    {
      "cell_type": "code",
      "metadata": {
        "id": "0M8LqEp98ZHO",
        "colab_type": "code",
        "colab": {
          "base_uri": "https://localhost:8080/",
          "height": 34
        },
        "outputId": "42931d76-caeb-4dd9-a346-99b94e1eb1d5"
      },
      "source": [
        "dl = DualLayer(l2 = 0.01)\n",
        "dl.fit(x_train_scaled, y_train, x_val=x_val_scaled, y_val=y_val, epochs=20000)\n",
        "dl.score(x_val_scaled, y_val)  #평가, 기존과 비슷하다."
      ],
      "execution_count": 20,
      "outputs": [
        {
          "output_type": "execute_result",
          "data": {
            "text/plain": [
              "0.978021978021978"
            ]
          },
          "metadata": {
            "tags": []
          },
          "execution_count": 20
        }
      ]
    },
    {
      "cell_type": "code",
      "metadata": {
        "id": "ehNXG58q80nU",
        "colab_type": "code",
        "colab": {
          "base_uri": "https://localhost:8080/",
          "height": 286
        },
        "outputId": "78b9eaf7-3746-453b-b719-31645d478087"
      },
      "source": [
        "plt.plot(dl.losses)\n",
        "plt.plot(dl.val_losses)\n",
        "plt.ylim(0,0.3)"
      ],
      "execution_count": 22,
      "outputs": [
        {
          "output_type": "execute_result",
          "data": {
            "text/plain": [
              "(0.0, 0.3)"
            ]
          },
          "metadata": {
            "tags": []
          },
          "execution_count": 22
        },
        {
          "output_type": "display_data",
          "data": {
            "image/png": "[encoded data removed]",
            "text/plain": [
              "<Figure size 432x288 with 1 Axes>"
            ]
          },
          "metadata": {
            "tags": [],
            "needs_background": "light"
          }
        }
      ]
    },
    {
      "cell_type": "markdown",
      "metadata": {
        "id": "bC4TkrFO97Af",
        "colab_type": "text"
      },
      "source": [
        "# 가중치를 렌덤하게 초기화하는 경우?\n"
      ]
    },
    {
      "cell_type": "code",
      "metadata": {
        "id": "54-iXsar9vYT",
        "colab_type": "code",
        "colab": {}
      },
      "source": [
        "class RandomInit(DualLayer):\n",
        "    def init_weight(self, n_feature):\n",
        "        np.random.seed(42)\n",
        "        self.w1 = np.random.normal(0, 1, (n_feature, self.units))  # 특성 갯수, 은닉층 크기\n",
        "        self.b1 = np.zeros(self.units)\n",
        "        self.w2 = np.random.normal(0,1, (self.units, 1))\n",
        "        self.b2 = 0\n",
        "\n",
        "ru = RandomInit(l2=0.01)\n",
        "ru .fit(x_train_scaled, y_train, x_val=x_val_scaled, y_val=y_val, epochs=500)"
      ],
      "execution_count": 0,
      "outputs": []
    },
    {
      "cell_type": "code",
      "metadata": {
        "id": "PtCRbIPv-k-u",
        "colab_type": "code",
        "colab": {
          "base_uri": "https://localhost:8080/",
          "height": 286
        },
        "outputId": "d993760a-aa8a-4b37-dca7-bd27a79d0285"
      },
      "source": [
        "plt.plot(ru.losses)\n",
        "plt.plot(ru.val_losses)\n",
        "plt.ylim(0,0.3)"
      ],
      "execution_count": 25,
      "outputs": [
        {
          "output_type": "execute_result",
          "data": {
            "text/plain": [
              "(0.0, 0.3)"
            ]
          },
          "metadata": {
            "tags": []
          },
          "execution_count": 25
        },
        {
          "output_type": "display_data",
          "data": {
            "image/png": "[encoded data removed]",
            "text/plain": [
              "<Figure size 432x288 with 1 Axes>"
            ]
          },
          "metadata": {
            "tags": [],
            "needs_background": "light"
          }
        }
      ]
    },
    {
      "cell_type": "markdown",
      "metadata": {
        "id": "R5e9nk-b-1C5",
        "colab_type": "text"
      },
      "source": [
        "# 미니배치를 사용하여 훈련하기"
      ]
    },
    {
      "cell_type": "code",
      "metadata": {
        "id": "ObQpxQYV-rMQ",
        "colab_type": "code",
        "colab": {}
      },
      "source": [
        "class MiniBatch(RandomInit):\n",
        "    def __init__(self, units=10, batch_size=32, learning_rate=0.1, l1=0, l2=0):\n",
        "        # 미니 배치 사이즈를 정해줘야 한다. \n",
        "        super().__init__(units, learning_rate, l1, l2)  # 기존 상속하기 \n",
        "        self.batch_size = batch_size\n",
        "\n",
        "    def fit(self, x, y, epochs=100, x_val=None, y_val=None):\n",
        "        y = y.reshape(-1,1)  # 타겟을 열 벡터로 바꾼다.\n",
        "        self.init_weight(x.shape[1])\n",
        "        np.random.seed(42)  # 은닉층과 출력층의 가중치를 초기화\n",
        "        for i in range(epochs): # 에포크 수 만큼 돌리기\n",
        "            loss = 0\n",
        "            # 제너레이터에서 반환한 미니배치 순환\n",
        "            for x_batch, y_batch in self.gen_batch(x, y):\n",
        "                y_batch = y_batch.reshape(-1,1)\n",
        "                m = len(x_batch)\n",
        "                a = self.training(x_batch, y_batch, m)\n",
        "                a = np.clip(a, 1e-10, 1-1e-10)\n",
        "                loss += np.sum(-(y_batch*np.log(a) + (1-y_batch)*np.log(1-a)))\n",
        "            self.losses.append((loss + self.reg_loss()) / m)\n",
        "            self.updata_val_loss(x_val, y_val)\n",
        "\n",
        "    def gen_batch(self, x, y):\n",
        "        length = len(x)\n",
        "        bins = length // self.batch_size\n",
        "        if length % self.batch_size:\n",
        "            bins += 1\n",
        "        indexes = np.random.permutation(np.arange(len(x)))  # 인덱스를 섞는다\n",
        "        x = x[indexes]\n",
        "        y = y[indexes]\n",
        "        for i in range(bins):\n",
        "            start = self.batch_size * i\n",
        "            end = self.batch_size * (i + 1)\n",
        "            yield x[start:end], y[start:end]  # 배치 사이즈 만큼 슬라이싱해서 반환합니다"
      ],
      "execution_count": 0,
      "outputs": []
    },
    {
      "cell_type": "code",
      "metadata": {
        "id": "jMheAK1uBjp1",
        "colab_type": "code",
        "colab": {
          "base_uri": "https://localhost:8080/",
          "height": 34
        },
        "outputId": "47ba8c58-432a-49cf-80ac-37e17327a239"
      },
      "source": [
        "# 배치 사이즈 32\n",
        "batch32 = MiniBatch(l2=0.01, batch_size=32)\n",
        "batch32.fit(x_train_scaled, y_train, x_val=x_val_scaled, y_val=y_val, epochs=500)\n",
        "batch32.score(x_val_scaled, y_val)"
      ],
      "execution_count": 27,
      "outputs": [
        {
          "output_type": "execute_result",
          "data": {
            "text/plain": [
              "0.978021978021978"
            ]
          },
          "metadata": {
            "tags": []
          },
          "execution_count": 27
        }
      ]
    },
    {
      "cell_type": "code",
      "metadata": {
        "id": "kyCy4OOWBzlz",
        "colab_type": "code",
        "colab": {
          "base_uri": "https://localhost:8080/",
          "height": 282
        },
        "outputId": "72de9ea6-e4dc-47d5-bb08-23b73a531134"
      },
      "source": [
        "plt.plot(batch32.losses)\n",
        "plt.plot(batch32.val_losses)\n"
      ],
      "execution_count": 28,
      "outputs": [
        {
          "output_type": "execute_result",
          "data": {
            "text/plain": [
              "[<matplotlib.lines.Line2D at 0x7fed230a44a8>]"
            ]
          },
          "metadata": {
            "tags": []
          },
          "execution_count": 28
        },
        {
          "output_type": "display_data",
          "data": {
            "image/png": "[encoded data removed]",
            "text/plain": [
              "<Figure size 432x288 with 1 Axes>"
            ]
          },
          "metadata": {
            "tags": [],
            "needs_background": "light"
          }
        }
      ]
    },
    {
      "cell_type": "code",
      "metadata": {
        "id": "qhcFm6ydB-qb",
        "colab_type": "code",
        "colab": {
          "base_uri": "https://localhost:8080/",
          "height": 34
        },
        "outputId": "f739e5d6-259a-4da6-a615-0547aa509dd1"
      },
      "source": [
        "# 배치 사이즈 128\n",
        "batch128 = MiniBatch(l2=0.01, batch_size=128)\n",
        "batch128.fit(x_train_scaled, y_train, x_val=x_val_scaled, y_val=y_val, epochs=500)\n",
        "batch128.score(x_val_scaled, y_val)"
      ],
      "execution_count": 29,
      "outputs": [
        {
          "output_type": "execute_result",
          "data": {
            "text/plain": [
              "0.978021978021978"
            ]
          },
          "metadata": {
            "tags": []
          },
          "execution_count": 29
        }
      ]
    },
    {
      "cell_type": "code",
      "metadata": {
        "id": "YZl1t8KXCYRi",
        "colab_type": "code",
        "colab": {
          "base_uri": "https://localhost:8080/",
          "height": 282
        },
        "outputId": "da6c25eb-b4ee-4fdb-a4e6-ab9933ef212a"
      },
      "source": [
        "plt.plot(batch128.losses)\n",
        "plt.plot(batch128.val_losses)\n"
      ],
      "execution_count": 31,
      "outputs": [
        {
          "output_type": "execute_result",
          "data": {
            "text/plain": [
              "[<matplotlib.lines.Line2D at 0x7fed22fa82b0>]"
            ]
          },
          "metadata": {
            "tags": []
          },
          "execution_count": 31
        },
        {
          "output_type": "display_data",
          "data": {
            "image/png": "[encoded data removed]",
            "text/plain": [
              "<Figure size 432x288 with 1 Axes>"
            ]
          },
          "metadata": {
            "tags": [],
            "needs_background": "light"
          }
        }
      ]
    },
    {
      "cell_type": "code",
      "metadata": {
        "id": "zVyiybFRCbwb",
        "colab_type": "code",
        "colab": {}
      },
      "source": [
        "# 사이킷 런 사용하기\n",
        "\n",
        "from sklearn.neural_network import MLPClassifier\n",
        "mlp = MLPClassifier(hidden_layer_sizes=(10, ), activation='logistic',  solver='sgd', alpha=0.01, batch_size=32, learning_rate_init=0.1, max_iter=500)"
      ],
      "execution_count": 0,
      "outputs": []
    },
    {
      "cell_type": "code",
      "metadata": {
        "id": "EET-ICH4C6Sv",
        "colab_type": "code",
        "colab": {
          "base_uri": "https://localhost:8080/",
          "height": 34
        },
        "outputId": "cec2bc38-ff79-4001-aa49-21fdf456222e"
      },
      "source": [
        "mlp.fit(x_train_scaled, y_train)\n",
        "mlp.score(x_val_scaled, y_val)"
      ],
      "execution_count": 33,
      "outputs": [
        {
          "output_type": "execute_result",
          "data": {
            "text/plain": [
              "0.989010989010989"
            ]
          },
          "metadata": {
            "tags": []
          },
          "execution_count": 33
        }
      ]
    },
    {
      "cell_type": "code",
      "metadata": {
        "id": "dqKWwldaDN9V",
        "colab_type": "code",
        "colab": {}
      },
      "source": [
        ""
      ],
      "execution_count": 0,
      "outputs": []
    }
  ]
}