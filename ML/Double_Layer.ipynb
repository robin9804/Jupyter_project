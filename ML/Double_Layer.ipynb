{
  "nbformat": 4,
  "nbformat_minor": 0,
  "metadata": {
    "colab": {
      "name": "Double Layer.ipynb",
      "provenance": [],
      "collapsed_sections": []
    },
    "kernelspec": {
      "name": "python3",
      "display_name": "Python 3"
    }
  },
  "cells": [
    {
      "cell_type": "code",
      "metadata": {
        "id": "jB6gJ_5gS2B1",
        "colab_type": "code",
        "colab": {
          "base_uri": "https://localhost:8080/",
          "height": 34
        },
        "outputId": "3c093d86-3dee-4500-adfc-94e47fa20704"
      },
      "source": [
        "from sklearn.datasets import load_breast_cancer  # 데이터셋 로드\n",
        "from sklearn.model_selection import train_test_split  # 훈련셋이랑 검증셋 분리\n",
        "\n",
        "cancer = load_breast_cancer()\n",
        "x = cancer.data\n",
        "y = cancer.target\n",
        "# 데이터 분할\n",
        "x_train_all, x_test, y_train_all, y_test = train_test_split(x,y, stratify=y, test_size=0.2, random_state=42)\n",
        "\n",
        "# 트레인 셋이랑 데이터 셋을 다시 차례로 분리하기\n",
        "x_train , x_val, y_train, y_val = train_test_split(x_train_all, y_train_all, stratify=y_train_all, test_size=0.2, random_state=42)\n",
        "print(len(x_train), len(x_val))  # val : validation set\n"
      ],
      "execution_count": 1,
      "outputs": [
        {
          "output_type": "stream",
          "text": [
            "364 91\n"
          ],
          "name": "stdout"
        }
      ]
    },
    {
      "cell_type": "code",
      "metadata": {
        "id": "RKb8g_UITGlC",
        "colab_type": "code",
        "colab": {
          "base_uri": "https://localhost:8080/",
          "height": 34
        },
        "outputId": "7090b66a-8a8e-4992-bf75-c7dd5c76465d"
      },
      "source": [
        "print(x_train.shape,x_val.shape)"
      ],
      "execution_count": 3,
      "outputs": [
        {
          "output_type": "stream",
          "text": [
            "(364, 30) (91, 30)\n"
          ],
          "name": "stdout"
        }
      ]
    },
    {
      "cell_type": "markdown",
      "metadata": {
        "id": "v8PpKfQATbNK",
        "colab_type": "text"
      },
      "source": [
        "# 정방향 계산을 행렬 곱셈으로 표현하기\n",
        "\n",
        "dot을 사용해서 행렬곱셈을 할 수 있다."
      ]
    },
    {
      "cell_type": "code",
      "metadata": {
        "id": "hWxCvv1OTWUA",
        "colab_type": "code",
        "colab": {}
      },
      "source": [
        "from sklearn.linear_model import SGDClassifier\n",
        "import numpy as np\n",
        "import matplotlib.pyplot as plt"
      ],
      "execution_count": 0,
      "outputs": []
    },
    {
      "cell_type": "code",
      "metadata": {
        "id": "wSuNYXukTvWq",
        "colab_type": "code",
        "colab": {}
      },
      "source": [
        "class SingleLayer_l1l2:\n",
        "    def __init__(self, learning_rate=0.1, l1=0, l2=0):\n",
        "        self.w = None  # weight 가중치\n",
        "        self.b = None  # bias 바이어스\n",
        "        self.losses = []  # 손실을 누적\n",
        "        self.val_losses = [] # 검증 셋에 대한 손실을 기록\n",
        "        self.w_history = []  # 가중치 변화 누적하는 리스트\n",
        "        self.lr = learning_rate  # 학습률(hyperparameter)\n",
        "        self.l1 = l1\n",
        "        self.l2 = l2\n",
        "\n",
        "    def forpass(self, x):\n",
        "        # 정방향 진행에 행렬곱 사용\n",
        "        z = np.dot(x, self.w) + self.b\n",
        "        return z\n",
        "\n",
        "    def backprop(self, x, error):\n",
        "        # 역방향 진행에 전치행렬곱을 적용\n",
        "        w_g = np.dot(x.T, error) / len(x)  #평균 그레이디언트라서!\n",
        "        b_g = np.sum(error) / len(x)\n",
        "        return w_g, b_g\n",
        "\n",
        "    def add_bias(self, x):\n",
        "        # 1로 채워진 열백터를 추가하는. \n",
        "        return np.c_[np.ones((x.shape[0], 1)), x]\n",
        "\n",
        "    def activation(self, z):\n",
        "        # 활성화 함수\n",
        "        a = 1 / (1 + np.exp(-z))\n",
        "        return a \n",
        "\n",
        "    def fit(self, x, y, epochs=100, x_val=None, y_val=None):\n",
        "        # 전체 샘플을 한 번에 계산하기 때문에 약간의 수정이 가해진다\n",
        "        # 가중치랑 바이어스를 초기화\n",
        "        y = y.reshape(-1,1)  # 타깃을 열백터로 바꾼다 (1; 1; 1...)\n",
        "        y_val = y_val.reshape(-1,1)  # 검증용 타겟도 열백터로 바꾸기\n",
        "        m = len(x)\n",
        "        self.w = np.ones((x.shape[1],1))  # w, b 초기화\n",
        "        self.b = 0\n",
        "        self.w_history.append(self.w.copy())  # 가중치 기록\n",
        "        for i in range(epochs):\n",
        "            # 에포크만큼 반복\n",
        "            z = self.forpass(x)\n",
        "            a = self.activation(z)\n",
        "            err = -(y -a)  # 오차 계산\n",
        "            w_grad, b_grad = self.backprop(x, err)  # 오차 역전파로 그라디언트 계산 후 빼줘야 한다. \n",
        "            w_grad += (self.l1* np.sign(self.w) + self.l2*self.w) / m  # 페널티의 미분값을 더해준다, 규제\n",
        "            self.w -= self.lr * w_grad  # 가중치와 절편 업데이트\n",
        "            self.b -= self.lr * b_grad\n",
        "            self.w_history.append(self.w.copy())\n",
        "            a = np.clip(a, 1e-10, 1-1e-10)\n",
        "            loss = np.sum(-(y*np.log(a) + (1-y)*np.log(1-a)))\n",
        "            self.losses.append((loss + self.reg_loss()) / m)\n",
        "            self.updata_val_loss(x_val, y_val)\n",
        "\n",
        "    def reg_loss(self):\n",
        "        # 페널티 항에 대한 값을 더해야 한다. (규제 적용)\n",
        "        return self.l1*np.sum(np.abs(self.w)) + self.l2/2 * np.sum(self.w**2)\n",
        "\n",
        "    def updata_val_loss(self, x_val, y_val):\n",
        "        z = self.forpass(x_val)\n",
        "        a = self.activation(z)\n",
        "        a = np.clip(a, 1e-10, 1-1e-10)\n",
        "        val_loss = np.sum(-(y_val*np.log(a) + (1-y_val)*np.log(1-a)))\n",
        "        self.val_losses.append((val_loss + self.reg_loss())/ len(y_val))  # 로그 손실과 규제 손실을 더해서 리스트에 추가\n",
        "\n",
        "    def predict(self, x):\n",
        "        z = self.forpass(x)\n",
        "        return z > 0\n",
        "\n",
        "    def score(self, x, y):\n",
        "        return np.mean(self.predict(x)==y.reshape(-1,1))"
      ],
      "execution_count": 0,
      "outputs": []
    },
    {
      "cell_type": "markdown",
      "metadata": {
        "id": "yEPLzEuOXirU",
        "colab_type": "text"
      },
      "source": [
        "# 훈련 데이터 표준화 전처리하기"
      ]
    },
    {
      "cell_type": "code",
      "metadata": {
        "id": "rOGDfAVxXbc9",
        "colab_type": "code",
        "colab": {}
      },
      "source": [
        "from sklearn.preprocessing import StandardScaler"
      ],
      "execution_count": 0,
      "outputs": []
    },
    {
      "cell_type": "code",
      "metadata": {
        "id": "Zi9qbrnNXqBm",
        "colab_type": "code",
        "colab": {}
      },
      "source": [
        "scaler = StandardScaler()\n",
        "scaler.fit(x_train)  # x train으로 fit하고\n",
        "x_train_scaled = scaler.transform(x_train)  # fit로 구한 표준편차를 x train으로 표준화시키기\n",
        "x_val_scaled = scaler.transform(x_val)"
      ],
      "execution_count": 0,
      "outputs": []
    },
    {
      "cell_type": "code",
      "metadata": {
        "id": "zLmUbJOhX-Nm",
        "colab_type": "code",
        "colab": {
          "base_uri": "https://localhost:8080/",
          "height": 34
        },
        "outputId": "1f01deb1-6951-484c-9d37-cb284ad99f7d"
      },
      "source": [
        "SL = SingleLayer_l1l2(l2 = 0.01)\n",
        "SL.fit(x_train_scaled, y_train, x_val = x_val_scaled, y_val = y_val, epochs= 10000)\n",
        "SL.score(x_val_scaled, y_val)"
      ],
      "execution_count": 19,
      "outputs": [
        {
          "output_type": "execute_result",
          "data": {
            "text/plain": [
              "0.978021978021978"
            ]
          },
          "metadata": {
            "tags": []
          },
          "execution_count": 19
        }
      ]
    },
    {
      "cell_type": "code",
      "metadata": {
        "id": "vXOZnTyDYNov",
        "colab_type": "code",
        "colab": {
          "base_uri": "https://localhost:8080/",
          "height": 286
        },
        "outputId": "e0d871ba-552c-4b98-9d2f-ab9cbc23723c"
      },
      "source": [
        "plt.ylim(0,0.3)\n",
        "plt.plot(SL.losses)\n",
        "plt.plot(SL.val_losses)"
      ],
      "execution_count": 17,
      "outputs": [
        {
          "output_type": "execute_result",
          "data": {
            "text/plain": [
              "[<matplotlib.lines.Line2D at 0x7fb2780dd828>]"
            ]
          },
          "metadata": {
            "tags": []
          },
          "execution_count": 17
        },
        {
          "output_type": "display_data",
          "data": {
            "image/png": "[encoded data removed]",
            "text/plain": [
              "<Figure size 432x288 with 1 Axes>"
            ]
          },
          "metadata": {
            "tags": [],
            "needs_background": "light"
          }
        }
      ]
    },
    {
      "cell_type": "markdown",
      "metadata": {
        "id": "9dnxWqa_aDgM",
        "colab_type": "text"
      },
      "source": [
        "완만하게 떨어지는 것을 볼 수 있다. "
      ]
    },
    {
      "cell_type": "code",
      "metadata": {
        "id": "P3S-mr-5Z3Hv",
        "colab_type": "code",
        "colab": {
          "base_uri": "https://localhost:8080/",
          "height": 282
        },
        "outputId": "185b6dbd-bb00-46c8-c0af-5e468a086f40"
      },
      "source": [
        "w2 = []\n",
        "w3 = []\n",
        "for w in SL.w_history:\n",
        "    w2.append(w[2])\n",
        "    w3.append(w[3])\n",
        "plt.plot(w2, w3)\n",
        "plt.plot(w2[-1], w3[-1], 'ro')  # 저 빨간점. 손실값도 안정적으로 수렴"
      ],
      "execution_count": 20,
      "outputs": [
        {
          "output_type": "execute_result",
          "data": {
            "text/plain": [
              "[<matplotlib.lines.Line2D at 0x7fb27809f710>]"
            ]
          },
          "metadata": {
            "tags": []
          },
          "execution_count": 20
        },
        {
          "output_type": "display_data",
          "data": {
            "image/png": "[encoded data removed]",
            "text/plain": [
              "<Figure size 432x288 with 1 Axes>"
            ]
          },
          "metadata": {
            "tags": [],
            "needs_background": "light"
          }
        }
      ]
    },
    {
      "cell_type": "code",
      "metadata": {
        "id": "M126pwdOaYo4",
        "colab_type": "code",
        "colab": {}
      },
      "source": [
        ""
      ],
      "execution_count": 0,
      "outputs": []
    }
  ]
}